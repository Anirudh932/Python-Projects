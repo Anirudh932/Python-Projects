{
 "cells": [
  {
   "cell_type": "code",
   "execution_count": 4,
   "id": "21e8d386",
   "metadata": {},
   "outputs": [],
   "source": [
    "import pandas as pd\n",
    "import numpy as np\n",
    "import matplotlib.pyplot as plt\n",
    "import seaborn as sns\n",
    "import warnings\n",
    "import plotly.express as px\n",
    "import plotly.graph_objs as go\n",
    "import plotly.figure_factory as ff\n",
    "import warnings\n",
    "\n",
    "warnings.filterwarnings('ignore')\n",
    "get_ipython().run_line_magic('matplotlib', 'inline')"
   ]
  },
  {
   "cell_type": "code",
   "execution_count": 5,
   "id": "460b52a4",
   "metadata": {},
   "outputs": [],
   "source": [
    "Netflix=pd.read_csv(r\"D:\\Anirudh\\Data Analysis Project\\Python Project\\Netflix Project\\NetFlix(Data-Set).csv\")"
   ]
  },
  {
   "cell_type": "markdown",
   "id": "e685b9e5",
   "metadata": {},
   "source": [
    "# Inspecting Data Set"
   ]
  },
  {
   "cell_type": "code",
   "execution_count": 6,
   "id": "b7738c83",
   "metadata": {},
   "outputs": [
    {
     "data": {
      "text/html": [
       "<div>\n",
       "<style scoped>\n",
       "    .dataframe tbody tr th:only-of-type {\n",
       "        vertical-align: middle;\n",
       "    }\n",
       "\n",
       "    .dataframe tbody tr th {\n",
       "        vertical-align: top;\n",
       "    }\n",
       "\n",
       "    .dataframe thead th {\n",
       "        text-align: right;\n",
       "    }\n",
       "</style>\n",
       "<table border=\"1\" class=\"dataframe\">\n",
       "  <thead>\n",
       "    <tr style=\"text-align: right;\">\n",
       "      <th></th>\n",
       "      <th>show_id</th>\n",
       "      <th>type</th>\n",
       "      <th>title</th>\n",
       "      <th>director</th>\n",
       "      <th>cast</th>\n",
       "      <th>country</th>\n",
       "      <th>date_added</th>\n",
       "      <th>release_year</th>\n",
       "      <th>rating</th>\n",
       "      <th>duration</th>\n",
       "      <th>genres</th>\n",
       "      <th>description</th>\n",
       "    </tr>\n",
       "  </thead>\n",
       "  <tbody>\n",
       "    <tr>\n",
       "      <th>0</th>\n",
       "      <td>s1</td>\n",
       "      <td>TV Show</td>\n",
       "      <td>3%</td>\n",
       "      <td>NaN</td>\n",
       "      <td>João Miguel, Bianca Comparato, Michel Gomes, R...</td>\n",
       "      <td>Brazil</td>\n",
       "      <td>14-Aug-20</td>\n",
       "      <td>2020</td>\n",
       "      <td>TV-MA</td>\n",
       "      <td>4</td>\n",
       "      <td>International TV Shows, TV Dramas, TV Sci-Fi &amp;...</td>\n",
       "      <td>In a future where the elite inhabit an island ...</td>\n",
       "    </tr>\n",
       "    <tr>\n",
       "      <th>1</th>\n",
       "      <td>s10</td>\n",
       "      <td>Movie</td>\n",
       "      <td>1920</td>\n",
       "      <td>Vikram Bhatt</td>\n",
       "      <td>Rajneesh Duggal, Adah Sharma, Indraneil Sengup...</td>\n",
       "      <td>India</td>\n",
       "      <td>15-Dec-17</td>\n",
       "      <td>2008</td>\n",
       "      <td>TV-MA</td>\n",
       "      <td>143</td>\n",
       "      <td>Horror Movies, International Movies, Thrillers</td>\n",
       "      <td>An architect and his wife move into a castle t...</td>\n",
       "    </tr>\n",
       "    <tr>\n",
       "      <th>2</th>\n",
       "      <td>s100</td>\n",
       "      <td>Movie</td>\n",
       "      <td>3 Heroines</td>\n",
       "      <td>Iman Brotoseno</td>\n",
       "      <td>Reza Rahadian, Bunga Citra Lestari, Tara Basro...</td>\n",
       "      <td>Indonesia</td>\n",
       "      <td>5-Jan-19</td>\n",
       "      <td>2016</td>\n",
       "      <td>TV-PG</td>\n",
       "      <td>124</td>\n",
       "      <td>Dramas, International Movies, Sports Movies</td>\n",
       "      <td>Three Indonesian women break records by becomi...</td>\n",
       "    </tr>\n",
       "    <tr>\n",
       "      <th>3</th>\n",
       "      <td>s1000</td>\n",
       "      <td>Movie</td>\n",
       "      <td>Blue Mountain State: The Rise of Thadland</td>\n",
       "      <td>Lev L. Spiro</td>\n",
       "      <td>Alan Ritchson, Darin Brooks, James Cade, Rob R...</td>\n",
       "      <td>United States</td>\n",
       "      <td>1-Mar-16</td>\n",
       "      <td>2016</td>\n",
       "      <td>R</td>\n",
       "      <td>90</td>\n",
       "      <td>Comedies</td>\n",
       "      <td>New NFL star Thad buys his old teammates' belo...</td>\n",
       "    </tr>\n",
       "    <tr>\n",
       "      <th>4</th>\n",
       "      <td>s1001</td>\n",
       "      <td>TV Show</td>\n",
       "      <td>Blue Planet II</td>\n",
       "      <td>NaN</td>\n",
       "      <td>David Attenborough</td>\n",
       "      <td>United Kingdom</td>\n",
       "      <td>3-Dec-18</td>\n",
       "      <td>2017</td>\n",
       "      <td>TV-G</td>\n",
       "      <td>1</td>\n",
       "      <td>British TV Shows, Docuseries, Science &amp; Nature TV</td>\n",
       "      <td>This sequel to the award-winning nature series...</td>\n",
       "    </tr>\n",
       "  </tbody>\n",
       "</table>\n",
       "</div>"
      ],
      "text/plain": [
       "  show_id     type                                      title        director  \\\n",
       "0      s1  TV Show                                         3%             NaN   \n",
       "1     s10    Movie                                       1920    Vikram Bhatt   \n",
       "2    s100    Movie                                 3 Heroines  Iman Brotoseno   \n",
       "3   s1000    Movie  Blue Mountain State: The Rise of Thadland    Lev L. Spiro   \n",
       "4   s1001  TV Show                             Blue Planet II             NaN   \n",
       "\n",
       "                                                cast         country  \\\n",
       "0  João Miguel, Bianca Comparato, Michel Gomes, R...          Brazil   \n",
       "1  Rajneesh Duggal, Adah Sharma, Indraneil Sengup...           India   \n",
       "2  Reza Rahadian, Bunga Citra Lestari, Tara Basro...       Indonesia   \n",
       "3  Alan Ritchson, Darin Brooks, James Cade, Rob R...   United States   \n",
       "4                                 David Attenborough  United Kingdom   \n",
       "\n",
       "  date_added  release_year rating  duration  \\\n",
       "0  14-Aug-20          2020  TV-MA         4   \n",
       "1  15-Dec-17          2008  TV-MA       143   \n",
       "2   5-Jan-19          2016  TV-PG       124   \n",
       "3   1-Mar-16          2016      R        90   \n",
       "4   3-Dec-18          2017   TV-G         1   \n",
       "\n",
       "                                              genres  \\\n",
       "0  International TV Shows, TV Dramas, TV Sci-Fi &...   \n",
       "1     Horror Movies, International Movies, Thrillers   \n",
       "2        Dramas, International Movies, Sports Movies   \n",
       "3                                           Comedies   \n",
       "4  British TV Shows, Docuseries, Science & Nature TV   \n",
       "\n",
       "                                         description  \n",
       "0  In a future where the elite inhabit an island ...  \n",
       "1  An architect and his wife move into a castle t...  \n",
       "2  Three Indonesian women break records by becomi...  \n",
       "3  New NFL star Thad buys his old teammates' belo...  \n",
       "4  This sequel to the award-winning nature series...  "
      ]
     },
     "execution_count": 6,
     "metadata": {},
     "output_type": "execute_result"
    }
   ],
   "source": [
    "Netflix.head()"
   ]
  },
  {
   "cell_type": "code",
   "execution_count": 7,
   "id": "ba6b0e7a",
   "metadata": {},
   "outputs": [
    {
     "data": {
      "text/html": [
       "<div>\n",
       "<style scoped>\n",
       "    .dataframe tbody tr th:only-of-type {\n",
       "        vertical-align: middle;\n",
       "    }\n",
       "\n",
       "    .dataframe tbody tr th {\n",
       "        vertical-align: top;\n",
       "    }\n",
       "\n",
       "    .dataframe thead th {\n",
       "        text-align: right;\n",
       "    }\n",
       "</style>\n",
       "<table border=\"1\" class=\"dataframe\">\n",
       "  <thead>\n",
       "    <tr style=\"text-align: right;\">\n",
       "      <th></th>\n",
       "      <th>show_id</th>\n",
       "      <th>type</th>\n",
       "      <th>title</th>\n",
       "      <th>director</th>\n",
       "      <th>cast</th>\n",
       "      <th>country</th>\n",
       "      <th>date_added</th>\n",
       "      <th>release_year</th>\n",
       "      <th>rating</th>\n",
       "      <th>duration</th>\n",
       "      <th>genres</th>\n",
       "      <th>description</th>\n",
       "    </tr>\n",
       "  </thead>\n",
       "  <tbody>\n",
       "    <tr>\n",
       "      <th>7782</th>\n",
       "      <td>s995</td>\n",
       "      <td>TV Show</td>\n",
       "      <td>Blown Away</td>\n",
       "      <td>NaN</td>\n",
       "      <td>NaN</td>\n",
       "      <td>Canada</td>\n",
       "      <td>12-Jul-19</td>\n",
       "      <td>2019</td>\n",
       "      <td>TV-14</td>\n",
       "      <td>1</td>\n",
       "      <td>International TV Shows, Reality TV</td>\n",
       "      <td>Ten master artists turn up the heat in glassbl...</td>\n",
       "    </tr>\n",
       "    <tr>\n",
       "      <th>7783</th>\n",
       "      <td>s996</td>\n",
       "      <td>TV Show</td>\n",
       "      <td>Blue Exorcist</td>\n",
       "      <td>NaN</td>\n",
       "      <td>Nobuhiko Okamoto, Jun Fukuyama, Kana Hanazawa,...</td>\n",
       "      <td>Japan</td>\n",
       "      <td>1-Sep-20</td>\n",
       "      <td>2017</td>\n",
       "      <td>TV-MA</td>\n",
       "      <td>2</td>\n",
       "      <td>Anime Series, International TV Shows</td>\n",
       "      <td>Determined to throw off the curse of being Sat...</td>\n",
       "    </tr>\n",
       "    <tr>\n",
       "      <th>7784</th>\n",
       "      <td>s997</td>\n",
       "      <td>Movie</td>\n",
       "      <td>Blue Is the Warmest Color</td>\n",
       "      <td>Abdellatif Kechiche</td>\n",
       "      <td>Léa Seydoux, Adèle Exarchopoulos, Salim Kechio...</td>\n",
       "      <td>France, Belgium, Spain</td>\n",
       "      <td>26-Aug-16</td>\n",
       "      <td>2013</td>\n",
       "      <td>NC-17</td>\n",
       "      <td>180</td>\n",
       "      <td>Dramas, Independent Movies, International Movies</td>\n",
       "      <td>Determined to fall in love, 15-year-old Adele ...</td>\n",
       "    </tr>\n",
       "    <tr>\n",
       "      <th>7785</th>\n",
       "      <td>s998</td>\n",
       "      <td>Movie</td>\n",
       "      <td>Blue Jasmine</td>\n",
       "      <td>Woody Allen</td>\n",
       "      <td>Cate Blanchett, Sally Hawkins, Alec Baldwin, L...</td>\n",
       "      <td>United States</td>\n",
       "      <td>8-Mar-19</td>\n",
       "      <td>2013</td>\n",
       "      <td>PG-13</td>\n",
       "      <td>98</td>\n",
       "      <td>Comedies, Dramas, Independent Movies</td>\n",
       "      <td>The high life leads to high anxiety for a fash...</td>\n",
       "    </tr>\n",
       "    <tr>\n",
       "      <th>7786</th>\n",
       "      <td>s999</td>\n",
       "      <td>Movie</td>\n",
       "      <td>Blue Jay</td>\n",
       "      <td>Alex Lehmann</td>\n",
       "      <td>Sarah Paulson, Mark Duplass, Clu Gulager</td>\n",
       "      <td>United States</td>\n",
       "      <td>6-Dec-16</td>\n",
       "      <td>2016</td>\n",
       "      <td>TV-MA</td>\n",
       "      <td>81</td>\n",
       "      <td>Dramas, Independent Movies, Romantic Movies</td>\n",
       "      <td>Two former high school sweethearts unexpectedl...</td>\n",
       "    </tr>\n",
       "  </tbody>\n",
       "</table>\n",
       "</div>"
      ],
      "text/plain": [
       "     show_id     type                      title             director  \\\n",
       "7782    s995  TV Show                 Blown Away                  NaN   \n",
       "7783    s996  TV Show              Blue Exorcist                  NaN   \n",
       "7784    s997    Movie  Blue Is the Warmest Color  Abdellatif Kechiche   \n",
       "7785    s998    Movie               Blue Jasmine          Woody Allen   \n",
       "7786    s999    Movie                   Blue Jay         Alex Lehmann   \n",
       "\n",
       "                                                   cast  \\\n",
       "7782                                                NaN   \n",
       "7783  Nobuhiko Okamoto, Jun Fukuyama, Kana Hanazawa,...   \n",
       "7784  Léa Seydoux, Adèle Exarchopoulos, Salim Kechio...   \n",
       "7785  Cate Blanchett, Sally Hawkins, Alec Baldwin, L...   \n",
       "7786           Sarah Paulson, Mark Duplass, Clu Gulager   \n",
       "\n",
       "                     country date_added  release_year rating  duration  \\\n",
       "7782                  Canada  12-Jul-19          2019  TV-14         1   \n",
       "7783                   Japan   1-Sep-20          2017  TV-MA         2   \n",
       "7784  France, Belgium, Spain  26-Aug-16          2013  NC-17       180   \n",
       "7785           United States   8-Mar-19          2013  PG-13        98   \n",
       "7786           United States   6-Dec-16          2016  TV-MA        81   \n",
       "\n",
       "                                                genres  \\\n",
       "7782                International TV Shows, Reality TV   \n",
       "7783              Anime Series, International TV Shows   \n",
       "7784  Dramas, Independent Movies, International Movies   \n",
       "7785              Comedies, Dramas, Independent Movies   \n",
       "7786       Dramas, Independent Movies, Romantic Movies   \n",
       "\n",
       "                                            description  \n",
       "7782  Ten master artists turn up the heat in glassbl...  \n",
       "7783  Determined to throw off the curse of being Sat...  \n",
       "7784  Determined to fall in love, 15-year-old Adele ...  \n",
       "7785  The high life leads to high anxiety for a fash...  \n",
       "7786  Two former high school sweethearts unexpectedl...  "
      ]
     },
     "execution_count": 7,
     "metadata": {},
     "output_type": "execute_result"
    }
   ],
   "source": [
    "Netflix.tail()"
   ]
  },
  {
   "cell_type": "code",
   "execution_count": 8,
   "id": "1b0259d2",
   "metadata": {},
   "outputs": [
    {
     "data": {
      "text/plain": [
       "(7787, 12)"
      ]
     },
     "execution_count": 8,
     "metadata": {},
     "output_type": "execute_result"
    }
   ],
   "source": [
    "Netflix.shape"
   ]
  },
  {
   "cell_type": "code",
   "execution_count": 9,
   "id": "24e4696d",
   "metadata": {},
   "outputs": [
    {
     "data": {
      "text/plain": [
       "Index(['show_id', 'type', 'title', 'director', 'cast', 'country', 'date_added',\n",
       "       'release_year', 'rating', 'duration', 'genres', 'description'],\n",
       "      dtype='object')"
      ]
     },
     "execution_count": 9,
     "metadata": {},
     "output_type": "execute_result"
    }
   ],
   "source": [
    "Netflix.columns"
   ]
  },
  {
   "cell_type": "code",
   "execution_count": 10,
   "id": "e0432ed5",
   "metadata": {},
   "outputs": [
    {
     "data": {
      "text/plain": [
       "show_id         object\n",
       "type            object\n",
       "title           object\n",
       "director        object\n",
       "cast            object\n",
       "country         object\n",
       "date_added      object\n",
       "release_year     int64\n",
       "rating          object\n",
       "duration         int64\n",
       "genres          object\n",
       "description     object\n",
       "dtype: object"
      ]
     },
     "execution_count": 10,
     "metadata": {},
     "output_type": "execute_result"
    }
   ],
   "source": [
    "Netflix.dtypes"
   ]
  },
  {
   "cell_type": "code",
   "execution_count": 11,
   "id": "12892555",
   "metadata": {},
   "outputs": [
    {
     "data": {
      "text/plain": [
       "director        2389\n",
       "cast             718\n",
       "country          507\n",
       "date_added        10\n",
       "rating             7\n",
       "show_id            0\n",
       "type               0\n",
       "title              0\n",
       "release_year       0\n",
       "duration           0\n",
       "genres             0\n",
       "description        0\n",
       "dtype: int64"
      ]
     },
     "execution_count": 11,
     "metadata": {},
     "output_type": "execute_result"
    }
   ],
   "source": [
    "Netflix.isnull().sum().sort_values(ascending=False)"
   ]
  },
  {
   "cell_type": "code",
   "execution_count": 12,
   "id": "3032f525",
   "metadata": {},
   "outputs": [
    {
     "data": {
      "text/plain": [
       "director        30.68\n",
       "cast             9.22\n",
       "country          6.51\n",
       "date_added       0.13\n",
       "rating           0.09\n",
       "show_id          0.00\n",
       "type             0.00\n",
       "title            0.00\n",
       "release_year     0.00\n",
       "duration         0.00\n",
       "genres           0.00\n",
       "description      0.00\n",
       "dtype: float64"
      ]
     },
     "execution_count": 12,
     "metadata": {},
     "output_type": "execute_result"
    }
   ],
   "source": [
    "round(Netflix.isnull().sum()/Netflix.shape[0]*100,2).sort_values(ascending=False)"
   ]
  },
  {
   "cell_type": "markdown",
   "id": "cf55955a",
   "metadata": {},
   "source": [
    "Handling Missing Values"
   ]
  },
  {
   "cell_type": "code",
   "execution_count": 13,
   "id": "71a5c6df",
   "metadata": {},
   "outputs": [],
   "source": [
    "#Dropping Rows for small percentage of Null\n",
    "Netflix.dropna(subset=[\"rating\",\"duration\",\"date_added\"],axis=0 ,inplace=True)"
   ]
  },
  {
   "cell_type": "code",
   "execution_count": 14,
   "id": "88966b3d",
   "metadata": {},
   "outputs": [
    {
     "data": {
      "text/plain": [
       "(7770, 12)"
      ]
     },
     "execution_count": 14,
     "metadata": {},
     "output_type": "execute_result"
    }
   ],
   "source": [
    "Netflix.shape"
   ]
  },
  {
   "cell_type": "code",
   "execution_count": 15,
   "id": "ad2a7ce5",
   "metadata": {},
   "outputs": [],
   "source": [
    "##Replacing Null Value in Country with \"Unknown\"\n",
    "Netflix[\"country\"].replace(np.NaN, \"Unknown\", inplace=True)"
   ]
  },
  {
   "cell_type": "code",
   "execution_count": 16,
   "id": "0e863bff",
   "metadata": {},
   "outputs": [
    {
     "data": {
      "text/plain": [
       "director        30.58\n",
       "cast             9.24\n",
       "show_id          0.00\n",
       "type             0.00\n",
       "title            0.00\n",
       "country          0.00\n",
       "date_added       0.00\n",
       "release_year     0.00\n",
       "rating           0.00\n",
       "duration         0.00\n",
       "genres           0.00\n",
       "description      0.00\n",
       "dtype: float64"
      ]
     },
     "execution_count": 16,
     "metadata": {},
     "output_type": "execute_result"
    }
   ],
   "source": [
    "round(Netflix.isnull().sum() / Netflix.shape[0] * 100, 2).sort_values(ascending=False)"
   ]
  },
  {
   "cell_type": "code",
   "execution_count": 17,
   "id": "651adb68",
   "metadata": {},
   "outputs": [
    {
     "data": {
      "text/plain": [
       "country\n",
       "United States     2546\n",
       "India              923\n",
       "Unknown            505\n",
       "United Kingdom     396\n",
       "Japan              224\n",
       "Name: count, dtype: int64"
      ]
     },
     "execution_count": 17,
     "metadata": {},
     "output_type": "execute_result"
    }
   ],
   "source": [
    "Netflix.country.value_counts().head()"
   ]
  },
  {
   "cell_type": "code",
   "execution_count": 18,
   "id": "38242af7",
   "metadata": {},
   "outputs": [
    {
     "data": {
      "text/plain": [
       "cast\n",
       "David Attenborough                                                                                                        18\n",
       "Samuel West                                                                                                               10\n",
       "Jeff Dunham                                                                                                                7\n",
       "Kevin Hart                                                                                                                 6\n",
       "Michela Luci, Jamie Watson, Eric Peterson, Anna Claire Bartlam, Nicolas Aqui, Cory Doran, Julie Lemieux, Derek McGrath     6\n",
       "Craig Sechler                                                                                                              6\n",
       "Jim Gaffigan                                                                                                               5\n",
       "Iliza Shlesinger                                                                                                           5\n",
       "Bill Burr                                                                                                                  5\n",
       "Tom Segura                                                                                                                 4\n",
       "Name: count, dtype: int64"
      ]
     },
     "execution_count": 18,
     "metadata": {},
     "output_type": "execute_result"
    }
   ],
   "source": [
    "Netflix.cast.value_counts().head(10)"
   ]
  },
  {
   "cell_type": "code",
   "execution_count": 19,
   "id": "e9362e84",
   "metadata": {},
   "outputs": [],
   "source": [
    "##Replacing missing value in Cast with \"No Cast\"\n",
    "Netflix[\"cast\"].replace(np.NaN, \"No Cast\", inplace=True)"
   ]
  },
  {
   "cell_type": "code",
   "execution_count": 20,
   "id": "52cb038b",
   "metadata": {},
   "outputs": [],
   "source": [
    "##Replacing missing value in director with \"No Director\"\n",
    "Netflix[\"director\"].replace(np.NaN, \"No Director\", inplace=True)"
   ]
  },
  {
   "cell_type": "code",
   "execution_count": 21,
   "id": "ac9fb357",
   "metadata": {},
   "outputs": [
    {
     "data": {
      "text/plain": [
       "show_id         0.0\n",
       "type            0.0\n",
       "title           0.0\n",
       "director        0.0\n",
       "cast            0.0\n",
       "country         0.0\n",
       "date_added      0.0\n",
       "release_year    0.0\n",
       "rating          0.0\n",
       "duration        0.0\n",
       "genres          0.0\n",
       "description     0.0\n",
       "dtype: float64"
      ]
     },
     "execution_count": 21,
     "metadata": {},
     "output_type": "execute_result"
    }
   ],
   "source": [
    "round(Netflix.isnull().sum() / Netflix.shape[0] * 100, 4).sort_values(ascending=False)"
   ]
  },
  {
   "cell_type": "markdown",
   "id": "b7e5ecdc",
   "metadata": {},
   "source": [
    "# Movies and TV Shows"
   ]
  },
  {
   "cell_type": "code",
   "execution_count": 22,
   "id": "122b0df4",
   "metadata": {},
   "outputs": [
    {
     "data": {
      "text/plain": [
       "type\n",
       "Movie      5372\n",
       "TV Show    2398\n",
       "Name: count, dtype: int64"
      ]
     },
     "execution_count": 22,
     "metadata": {},
     "output_type": "execute_result"
    }
   ],
   "source": [
    "Netflix.type.value_counts()"
   ]
  },
  {
   "cell_type": "code",
   "execution_count": 23,
   "id": "5c0ed424",
   "metadata": {},
   "outputs": [
    {
     "data": {
      "application/vnd.plotly.v1+json": {
       "config": {
        "plotlyServerURL": "https://plot.ly"
       },
       "data": [
        {
         "hole": 0.5,
         "labels": [
          "Movies",
          "Tv_shows"
         ],
         "marker": {
          "colors": [
           "indigo",
           "dogerblue"
          ]
         },
         "title": {
          "text": "Movies vs TvShows"
         },
         "type": "pie",
         "values": [
          5372,
          2398
         ]
        }
       ],
       "layout": {
        "template": {
         "data": {
          "bar": [
           {
            "error_x": {
             "color": "#2a3f5f"
            },
            "error_y": {
             "color": "#2a3f5f"
            },
            "marker": {
             "line": {
              "color": "#E5ECF6",
              "width": 0.5
             },
             "pattern": {
              "fillmode": "overlay",
              "size": 10,
              "solidity": 0.2
             }
            },
            "type": "bar"
           }
          ],
          "barpolar": [
           {
            "marker": {
             "line": {
              "color": "#E5ECF6",
              "width": 0.5
             },
             "pattern": {
              "fillmode": "overlay",
              "size": 10,
              "solidity": 0.2
             }
            },
            "type": "barpolar"
           }
          ],
          "carpet": [
           {
            "aaxis": {
             "endlinecolor": "#2a3f5f",
             "gridcolor": "white",
             "linecolor": "white",
             "minorgridcolor": "white",
             "startlinecolor": "#2a3f5f"
            },
            "baxis": {
             "endlinecolor": "#2a3f5f",
             "gridcolor": "white",
             "linecolor": "white",
             "minorgridcolor": "white",
             "startlinecolor": "#2a3f5f"
            },
            "type": "carpet"
           }
          ],
          "choropleth": [
           {
            "colorbar": {
             "outlinewidth": 0,
             "ticks": ""
            },
            "type": "choropleth"
           }
          ],
          "contour": [
           {
            "colorbar": {
             "outlinewidth": 0,
             "ticks": ""
            },
            "colorscale": [
             [
              0,
              "#0d0887"
             ],
             [
              0.1111111111111111,
              "#46039f"
             ],
             [
              0.2222222222222222,
              "#7201a8"
             ],
             [
              0.3333333333333333,
              "#9c179e"
             ],
             [
              0.4444444444444444,
              "#bd3786"
             ],
             [
              0.5555555555555556,
              "#d8576b"
             ],
             [
              0.6666666666666666,
              "#ed7953"
             ],
             [
              0.7777777777777778,
              "#fb9f3a"
             ],
             [
              0.8888888888888888,
              "#fdca26"
             ],
             [
              1,
              "#f0f921"
             ]
            ],
            "type": "contour"
           }
          ],
          "contourcarpet": [
           {
            "colorbar": {
             "outlinewidth": 0,
             "ticks": ""
            },
            "type": "contourcarpet"
           }
          ],
          "heatmap": [
           {
            "colorbar": {
             "outlinewidth": 0,
             "ticks": ""
            },
            "colorscale": [
             [
              0,
              "#0d0887"
             ],
             [
              0.1111111111111111,
              "#46039f"
             ],
             [
              0.2222222222222222,
              "#7201a8"
             ],
             [
              0.3333333333333333,
              "#9c179e"
             ],
             [
              0.4444444444444444,
              "#bd3786"
             ],
             [
              0.5555555555555556,
              "#d8576b"
             ],
             [
              0.6666666666666666,
              "#ed7953"
             ],
             [
              0.7777777777777778,
              "#fb9f3a"
             ],
             [
              0.8888888888888888,
              "#fdca26"
             ],
             [
              1,
              "#f0f921"
             ]
            ],
            "type": "heatmap"
           }
          ],
          "heatmapgl": [
           {
            "colorbar": {
             "outlinewidth": 0,
             "ticks": ""
            },
            "colorscale": [
             [
              0,
              "#0d0887"
             ],
             [
              0.1111111111111111,
              "#46039f"
             ],
             [
              0.2222222222222222,
              "#7201a8"
             ],
             [
              0.3333333333333333,
              "#9c179e"
             ],
             [
              0.4444444444444444,
              "#bd3786"
             ],
             [
              0.5555555555555556,
              "#d8576b"
             ],
             [
              0.6666666666666666,
              "#ed7953"
             ],
             [
              0.7777777777777778,
              "#fb9f3a"
             ],
             [
              0.8888888888888888,
              "#fdca26"
             ],
             [
              1,
              "#f0f921"
             ]
            ],
            "type": "heatmapgl"
           }
          ],
          "histogram": [
           {
            "marker": {
             "pattern": {
              "fillmode": "overlay",
              "size": 10,
              "solidity": 0.2
             }
            },
            "type": "histogram"
           }
          ],
          "histogram2d": [
           {
            "colorbar": {
             "outlinewidth": 0,
             "ticks": ""
            },
            "colorscale": [
             [
              0,
              "#0d0887"
             ],
             [
              0.1111111111111111,
              "#46039f"
             ],
             [
              0.2222222222222222,
              "#7201a8"
             ],
             [
              0.3333333333333333,
              "#9c179e"
             ],
             [
              0.4444444444444444,
              "#bd3786"
             ],
             [
              0.5555555555555556,
              "#d8576b"
             ],
             [
              0.6666666666666666,
              "#ed7953"
             ],
             [
              0.7777777777777778,
              "#fb9f3a"
             ],
             [
              0.8888888888888888,
              "#fdca26"
             ],
             [
              1,
              "#f0f921"
             ]
            ],
            "type": "histogram2d"
           }
          ],
          "histogram2dcontour": [
           {
            "colorbar": {
             "outlinewidth": 0,
             "ticks": ""
            },
            "colorscale": [
             [
              0,
              "#0d0887"
             ],
             [
              0.1111111111111111,
              "#46039f"
             ],
             [
              0.2222222222222222,
              "#7201a8"
             ],
             [
              0.3333333333333333,
              "#9c179e"
             ],
             [
              0.4444444444444444,
              "#bd3786"
             ],
             [
              0.5555555555555556,
              "#d8576b"
             ],
             [
              0.6666666666666666,
              "#ed7953"
             ],
             [
              0.7777777777777778,
              "#fb9f3a"
             ],
             [
              0.8888888888888888,
              "#fdca26"
             ],
             [
              1,
              "#f0f921"
             ]
            ],
            "type": "histogram2dcontour"
           }
          ],
          "mesh3d": [
           {
            "colorbar": {
             "outlinewidth": 0,
             "ticks": ""
            },
            "type": "mesh3d"
           }
          ],
          "parcoords": [
           {
            "line": {
             "colorbar": {
              "outlinewidth": 0,
              "ticks": ""
             }
            },
            "type": "parcoords"
           }
          ],
          "pie": [
           {
            "automargin": true,
            "type": "pie"
           }
          ],
          "scatter": [
           {
            "fillpattern": {
             "fillmode": "overlay",
             "size": 10,
             "solidity": 0.2
            },
            "type": "scatter"
           }
          ],
          "scatter3d": [
           {
            "line": {
             "colorbar": {
              "outlinewidth": 0,
              "ticks": ""
             }
            },
            "marker": {
             "colorbar": {
              "outlinewidth": 0,
              "ticks": ""
             }
            },
            "type": "scatter3d"
           }
          ],
          "scattercarpet": [
           {
            "marker": {
             "colorbar": {
              "outlinewidth": 0,
              "ticks": ""
             }
            },
            "type": "scattercarpet"
           }
          ],
          "scattergeo": [
           {
            "marker": {
             "colorbar": {
              "outlinewidth": 0,
              "ticks": ""
             }
            },
            "type": "scattergeo"
           }
          ],
          "scattergl": [
           {
            "marker": {
             "colorbar": {
              "outlinewidth": 0,
              "ticks": ""
             }
            },
            "type": "scattergl"
           }
          ],
          "scattermapbox": [
           {
            "marker": {
             "colorbar": {
              "outlinewidth": 0,
              "ticks": ""
             }
            },
            "type": "scattermapbox"
           }
          ],
          "scatterpolar": [
           {
            "marker": {
             "colorbar": {
              "outlinewidth": 0,
              "ticks": ""
             }
            },
            "type": "scatterpolar"
           }
          ],
          "scatterpolargl": [
           {
            "marker": {
             "colorbar": {
              "outlinewidth": 0,
              "ticks": ""
             }
            },
            "type": "scatterpolargl"
           }
          ],
          "scatterternary": [
           {
            "marker": {
             "colorbar": {
              "outlinewidth": 0,
              "ticks": ""
             }
            },
            "type": "scatterternary"
           }
          ],
          "surface": [
           {
            "colorbar": {
             "outlinewidth": 0,
             "ticks": ""
            },
            "colorscale": [
             [
              0,
              "#0d0887"
             ],
             [
              0.1111111111111111,
              "#46039f"
             ],
             [
              0.2222222222222222,
              "#7201a8"
             ],
             [
              0.3333333333333333,
              "#9c179e"
             ],
             [
              0.4444444444444444,
              "#bd3786"
             ],
             [
              0.5555555555555556,
              "#d8576b"
             ],
             [
              0.6666666666666666,
              "#ed7953"
             ],
             [
              0.7777777777777778,
              "#fb9f3a"
             ],
             [
              0.8888888888888888,
              "#fdca26"
             ],
             [
              1,
              "#f0f921"
             ]
            ],
            "type": "surface"
           }
          ],
          "table": [
           {
            "cells": {
             "fill": {
              "color": "#EBF0F8"
             },
             "line": {
              "color": "white"
             }
            },
            "header": {
             "fill": {
              "color": "#C8D4E3"
             },
             "line": {
              "color": "white"
             }
            },
            "type": "table"
           }
          ]
         },
         "layout": {
          "annotationdefaults": {
           "arrowcolor": "#2a3f5f",
           "arrowhead": 0,
           "arrowwidth": 1
          },
          "autotypenumbers": "strict",
          "coloraxis": {
           "colorbar": {
            "outlinewidth": 0,
            "ticks": ""
           }
          },
          "colorscale": {
           "diverging": [
            [
             0,
             "#8e0152"
            ],
            [
             0.1,
             "#c51b7d"
            ],
            [
             0.2,
             "#de77ae"
            ],
            [
             0.3,
             "#f1b6da"
            ],
            [
             0.4,
             "#fde0ef"
            ],
            [
             0.5,
             "#f7f7f7"
            ],
            [
             0.6,
             "#e6f5d0"
            ],
            [
             0.7,
             "#b8e186"
            ],
            [
             0.8,
             "#7fbc41"
            ],
            [
             0.9,
             "#4d9221"
            ],
            [
             1,
             "#276419"
            ]
           ],
           "sequential": [
            [
             0,
             "#0d0887"
            ],
            [
             0.1111111111111111,
             "#46039f"
            ],
            [
             0.2222222222222222,
             "#7201a8"
            ],
            [
             0.3333333333333333,
             "#9c179e"
            ],
            [
             0.4444444444444444,
             "#bd3786"
            ],
            [
             0.5555555555555556,
             "#d8576b"
            ],
            [
             0.6666666666666666,
             "#ed7953"
            ],
            [
             0.7777777777777778,
             "#fb9f3a"
            ],
            [
             0.8888888888888888,
             "#fdca26"
            ],
            [
             1,
             "#f0f921"
            ]
           ],
           "sequentialminus": [
            [
             0,
             "#0d0887"
            ],
            [
             0.1111111111111111,
             "#46039f"
            ],
            [
             0.2222222222222222,
             "#7201a8"
            ],
            [
             0.3333333333333333,
             "#9c179e"
            ],
            [
             0.4444444444444444,
             "#bd3786"
            ],
            [
             0.5555555555555556,
             "#d8576b"
            ],
            [
             0.6666666666666666,
             "#ed7953"
            ],
            [
             0.7777777777777778,
             "#fb9f3a"
            ],
            [
             0.8888888888888888,
             "#fdca26"
            ],
            [
             1,
             "#f0f921"
            ]
           ]
          },
          "colorway": [
           "#636efa",
           "#EF553B",
           "#00cc96",
           "#ab63fa",
           "#FFA15A",
           "#19d3f3",
           "#FF6692",
           "#B6E880",
           "#FF97FF",
           "#FECB52"
          ],
          "font": {
           "color": "#2a3f5f"
          },
          "geo": {
           "bgcolor": "white",
           "lakecolor": "white",
           "landcolor": "#E5ECF6",
           "showlakes": true,
           "showland": true,
           "subunitcolor": "white"
          },
          "hoverlabel": {
           "align": "left"
          },
          "hovermode": "closest",
          "mapbox": {
           "style": "light"
          },
          "paper_bgcolor": "white",
          "plot_bgcolor": "#E5ECF6",
          "polar": {
           "angularaxis": {
            "gridcolor": "white",
            "linecolor": "white",
            "ticks": ""
           },
           "bgcolor": "#E5ECF6",
           "radialaxis": {
            "gridcolor": "white",
            "linecolor": "white",
            "ticks": ""
           }
          },
          "scene": {
           "xaxis": {
            "backgroundcolor": "#E5ECF6",
            "gridcolor": "white",
            "gridwidth": 2,
            "linecolor": "white",
            "showbackground": true,
            "ticks": "",
            "zerolinecolor": "white"
           },
           "yaxis": {
            "backgroundcolor": "#E5ECF6",
            "gridcolor": "white",
            "gridwidth": 2,
            "linecolor": "white",
            "showbackground": true,
            "ticks": "",
            "zerolinecolor": "white"
           },
           "zaxis": {
            "backgroundcolor": "#E5ECF6",
            "gridcolor": "white",
            "gridwidth": 2,
            "linecolor": "white",
            "showbackground": true,
            "ticks": "",
            "zerolinecolor": "white"
           }
          },
          "shapedefaults": {
           "line": {
            "color": "#2a3f5f"
           }
          },
          "ternary": {
           "aaxis": {
            "gridcolor": "white",
            "linecolor": "white",
            "ticks": ""
           },
           "baxis": {
            "gridcolor": "white",
            "linecolor": "white",
            "ticks": ""
           },
           "bgcolor": "#E5ECF6",
           "caxis": {
            "gridcolor": "white",
            "linecolor": "white",
            "ticks": ""
           }
          },
          "title": {
           "x": 0.05
          },
          "xaxis": {
           "automargin": true,
           "gridcolor": "white",
           "linecolor": "white",
           "ticks": "",
           "title": {
            "standoff": 15
           },
           "zerolinecolor": "white",
           "zerolinewidth": 2
          },
          "yaxis": {
           "automargin": true,
           "gridcolor": "white",
           "linecolor": "white",
           "ticks": "",
           "title": {
            "standoff": 15
           },
           "zerolinecolor": "white",
           "zerolinewidth": 2
          }
         }
        }
       }
      },
      "text/html": [
       "<div>                            <div id=\"130d22b2-1c29-45ed-a116-eb2346cc7a99\" class=\"plotly-graph-div\" style=\"height:525px; width:100%;\"></div>            <script type=\"text/javascript\">                require([\"plotly\"], function(Plotly) {                    window.PLOTLYENV=window.PLOTLYENV || {};                                    if (document.getElementById(\"130d22b2-1c29-45ed-a116-eb2346cc7a99\")) {                    Plotly.newPlot(                        \"130d22b2-1c29-45ed-a116-eb2346cc7a99\",                        [{\"hole\":0.5,\"labels\":[\"Movies\",\"Tv_shows\"],\"marker\":{\"colors\":[\"indigo\",\"dogerblue\"]},\"title\":{\"text\":\"Movies vs TvShows\"},\"values\":[5372,2398],\"type\":\"pie\"}],                        {\"template\":{\"data\":{\"histogram2dcontour\":[{\"type\":\"histogram2dcontour\",\"colorbar\":{\"outlinewidth\":0,\"ticks\":\"\"},\"colorscale\":[[0.0,\"#0d0887\"],[0.1111111111111111,\"#46039f\"],[0.2222222222222222,\"#7201a8\"],[0.3333333333333333,\"#9c179e\"],[0.4444444444444444,\"#bd3786\"],[0.5555555555555556,\"#d8576b\"],[0.6666666666666666,\"#ed7953\"],[0.7777777777777778,\"#fb9f3a\"],[0.8888888888888888,\"#fdca26\"],[1.0,\"#f0f921\"]]}],\"choropleth\":[{\"type\":\"choropleth\",\"colorbar\":{\"outlinewidth\":0,\"ticks\":\"\"}}],\"histogram2d\":[{\"type\":\"histogram2d\",\"colorbar\":{\"outlinewidth\":0,\"ticks\":\"\"},\"colorscale\":[[0.0,\"#0d0887\"],[0.1111111111111111,\"#46039f\"],[0.2222222222222222,\"#7201a8\"],[0.3333333333333333,\"#9c179e\"],[0.4444444444444444,\"#bd3786\"],[0.5555555555555556,\"#d8576b\"],[0.6666666666666666,\"#ed7953\"],[0.7777777777777778,\"#fb9f3a\"],[0.8888888888888888,\"#fdca26\"],[1.0,\"#f0f921\"]]}],\"heatmap\":[{\"type\":\"heatmap\",\"colorbar\":{\"outlinewidth\":0,\"ticks\":\"\"},\"colorscale\":[[0.0,\"#0d0887\"],[0.1111111111111111,\"#46039f\"],[0.2222222222222222,\"#7201a8\"],[0.3333333333333333,\"#9c179e\"],[0.4444444444444444,\"#bd3786\"],[0.5555555555555556,\"#d8576b\"],[0.6666666666666666,\"#ed7953\"],[0.7777777777777778,\"#fb9f3a\"],[0.8888888888888888,\"#fdca26\"],[1.0,\"#f0f921\"]]}],\"heatmapgl\":[{\"type\":\"heatmapgl\",\"colorbar\":{\"outlinewidth\":0,\"ticks\":\"\"},\"colorscale\":[[0.0,\"#0d0887\"],[0.1111111111111111,\"#46039f\"],[0.2222222222222222,\"#7201a8\"],[0.3333333333333333,\"#9c179e\"],[0.4444444444444444,\"#bd3786\"],[0.5555555555555556,\"#d8576b\"],[0.6666666666666666,\"#ed7953\"],[0.7777777777777778,\"#fb9f3a\"],[0.8888888888888888,\"#fdca26\"],[1.0,\"#f0f921\"]]}],\"contourcarpet\":[{\"type\":\"contourcarpet\",\"colorbar\":{\"outlinewidth\":0,\"ticks\":\"\"}}],\"contour\":[{\"type\":\"contour\",\"colorbar\":{\"outlinewidth\":0,\"ticks\":\"\"},\"colorscale\":[[0.0,\"#0d0887\"],[0.1111111111111111,\"#46039f\"],[0.2222222222222222,\"#7201a8\"],[0.3333333333333333,\"#9c179e\"],[0.4444444444444444,\"#bd3786\"],[0.5555555555555556,\"#d8576b\"],[0.6666666666666666,\"#ed7953\"],[0.7777777777777778,\"#fb9f3a\"],[0.8888888888888888,\"#fdca26\"],[1.0,\"#f0f921\"]]}],\"surface\":[{\"type\":\"surface\",\"colorbar\":{\"outlinewidth\":0,\"ticks\":\"\"},\"colorscale\":[[0.0,\"#0d0887\"],[0.1111111111111111,\"#46039f\"],[0.2222222222222222,\"#7201a8\"],[0.3333333333333333,\"#9c179e\"],[0.4444444444444444,\"#bd3786\"],[0.5555555555555556,\"#d8576b\"],[0.6666666666666666,\"#ed7953\"],[0.7777777777777778,\"#fb9f3a\"],[0.8888888888888888,\"#fdca26\"],[1.0,\"#f0f921\"]]}],\"mesh3d\":[{\"type\":\"mesh3d\",\"colorbar\":{\"outlinewidth\":0,\"ticks\":\"\"}}],\"scatter\":[{\"fillpattern\":{\"fillmode\":\"overlay\",\"size\":10,\"solidity\":0.2},\"type\":\"scatter\"}],\"parcoords\":[{\"type\":\"parcoords\",\"line\":{\"colorbar\":{\"outlinewidth\":0,\"ticks\":\"\"}}}],\"scatterpolargl\":[{\"type\":\"scatterpolargl\",\"marker\":{\"colorbar\":{\"outlinewidth\":0,\"ticks\":\"\"}}}],\"bar\":[{\"error_x\":{\"color\":\"#2a3f5f\"},\"error_y\":{\"color\":\"#2a3f5f\"},\"marker\":{\"line\":{\"color\":\"#E5ECF6\",\"width\":0.5},\"pattern\":{\"fillmode\":\"overlay\",\"size\":10,\"solidity\":0.2}},\"type\":\"bar\"}],\"scattergeo\":[{\"type\":\"scattergeo\",\"marker\":{\"colorbar\":{\"outlinewidth\":0,\"ticks\":\"\"}}}],\"scatterpolar\":[{\"type\":\"scatterpolar\",\"marker\":{\"colorbar\":{\"outlinewidth\":0,\"ticks\":\"\"}}}],\"histogram\":[{\"marker\":{\"pattern\":{\"fillmode\":\"overlay\",\"size\":10,\"solidity\":0.2}},\"type\":\"histogram\"}],\"scattergl\":[{\"type\":\"scattergl\",\"marker\":{\"colorbar\":{\"outlinewidth\":0,\"ticks\":\"\"}}}],\"scatter3d\":[{\"type\":\"scatter3d\",\"line\":{\"colorbar\":{\"outlinewidth\":0,\"ticks\":\"\"}},\"marker\":{\"colorbar\":{\"outlinewidth\":0,\"ticks\":\"\"}}}],\"scattermapbox\":[{\"type\":\"scattermapbox\",\"marker\":{\"colorbar\":{\"outlinewidth\":0,\"ticks\":\"\"}}}],\"scatterternary\":[{\"type\":\"scatterternary\",\"marker\":{\"colorbar\":{\"outlinewidth\":0,\"ticks\":\"\"}}}],\"scattercarpet\":[{\"type\":\"scattercarpet\",\"marker\":{\"colorbar\":{\"outlinewidth\":0,\"ticks\":\"\"}}}],\"carpet\":[{\"aaxis\":{\"endlinecolor\":\"#2a3f5f\",\"gridcolor\":\"white\",\"linecolor\":\"white\",\"minorgridcolor\":\"white\",\"startlinecolor\":\"#2a3f5f\"},\"baxis\":{\"endlinecolor\":\"#2a3f5f\",\"gridcolor\":\"white\",\"linecolor\":\"white\",\"minorgridcolor\":\"white\",\"startlinecolor\":\"#2a3f5f\"},\"type\":\"carpet\"}],\"table\":[{\"cells\":{\"fill\":{\"color\":\"#EBF0F8\"},\"line\":{\"color\":\"white\"}},\"header\":{\"fill\":{\"color\":\"#C8D4E3\"},\"line\":{\"color\":\"white\"}},\"type\":\"table\"}],\"barpolar\":[{\"marker\":{\"line\":{\"color\":\"#E5ECF6\",\"width\":0.5},\"pattern\":{\"fillmode\":\"overlay\",\"size\":10,\"solidity\":0.2}},\"type\":\"barpolar\"}],\"pie\":[{\"automargin\":true,\"type\":\"pie\"}]},\"layout\":{\"autotypenumbers\":\"strict\",\"colorway\":[\"#636efa\",\"#EF553B\",\"#00cc96\",\"#ab63fa\",\"#FFA15A\",\"#19d3f3\",\"#FF6692\",\"#B6E880\",\"#FF97FF\",\"#FECB52\"],\"font\":{\"color\":\"#2a3f5f\"},\"hovermode\":\"closest\",\"hoverlabel\":{\"align\":\"left\"},\"paper_bgcolor\":\"white\",\"plot_bgcolor\":\"#E5ECF6\",\"polar\":{\"bgcolor\":\"#E5ECF6\",\"angularaxis\":{\"gridcolor\":\"white\",\"linecolor\":\"white\",\"ticks\":\"\"},\"radialaxis\":{\"gridcolor\":\"white\",\"linecolor\":\"white\",\"ticks\":\"\"}},\"ternary\":{\"bgcolor\":\"#E5ECF6\",\"aaxis\":{\"gridcolor\":\"white\",\"linecolor\":\"white\",\"ticks\":\"\"},\"baxis\":{\"gridcolor\":\"white\",\"linecolor\":\"white\",\"ticks\":\"\"},\"caxis\":{\"gridcolor\":\"white\",\"linecolor\":\"white\",\"ticks\":\"\"}},\"coloraxis\":{\"colorbar\":{\"outlinewidth\":0,\"ticks\":\"\"}},\"colorscale\":{\"sequential\":[[0.0,\"#0d0887\"],[0.1111111111111111,\"#46039f\"],[0.2222222222222222,\"#7201a8\"],[0.3333333333333333,\"#9c179e\"],[0.4444444444444444,\"#bd3786\"],[0.5555555555555556,\"#d8576b\"],[0.6666666666666666,\"#ed7953\"],[0.7777777777777778,\"#fb9f3a\"],[0.8888888888888888,\"#fdca26\"],[1.0,\"#f0f921\"]],\"sequentialminus\":[[0.0,\"#0d0887\"],[0.1111111111111111,\"#46039f\"],[0.2222222222222222,\"#7201a8\"],[0.3333333333333333,\"#9c179e\"],[0.4444444444444444,\"#bd3786\"],[0.5555555555555556,\"#d8576b\"],[0.6666666666666666,\"#ed7953\"],[0.7777777777777778,\"#fb9f3a\"],[0.8888888888888888,\"#fdca26\"],[1.0,\"#f0f921\"]],\"diverging\":[[0,\"#8e0152\"],[0.1,\"#c51b7d\"],[0.2,\"#de77ae\"],[0.3,\"#f1b6da\"],[0.4,\"#fde0ef\"],[0.5,\"#f7f7f7\"],[0.6,\"#e6f5d0\"],[0.7,\"#b8e186\"],[0.8,\"#7fbc41\"],[0.9,\"#4d9221\"],[1,\"#276419\"]]},\"xaxis\":{\"gridcolor\":\"white\",\"linecolor\":\"white\",\"ticks\":\"\",\"title\":{\"standoff\":15},\"zerolinecolor\":\"white\",\"automargin\":true,\"zerolinewidth\":2},\"yaxis\":{\"gridcolor\":\"white\",\"linecolor\":\"white\",\"ticks\":\"\",\"title\":{\"standoff\":15},\"zerolinecolor\":\"white\",\"automargin\":true,\"zerolinewidth\":2},\"scene\":{\"xaxis\":{\"backgroundcolor\":\"#E5ECF6\",\"gridcolor\":\"white\",\"linecolor\":\"white\",\"showbackground\":true,\"ticks\":\"\",\"zerolinecolor\":\"white\",\"gridwidth\":2},\"yaxis\":{\"backgroundcolor\":\"#E5ECF6\",\"gridcolor\":\"white\",\"linecolor\":\"white\",\"showbackground\":true,\"ticks\":\"\",\"zerolinecolor\":\"white\",\"gridwidth\":2},\"zaxis\":{\"backgroundcolor\":\"#E5ECF6\",\"gridcolor\":\"white\",\"linecolor\":\"white\",\"showbackground\":true,\"ticks\":\"\",\"zerolinecolor\":\"white\",\"gridwidth\":2}},\"shapedefaults\":{\"line\":{\"color\":\"#2a3f5f\"}},\"annotationdefaults\":{\"arrowcolor\":\"#2a3f5f\",\"arrowhead\":0,\"arrowwidth\":1},\"geo\":{\"bgcolor\":\"white\",\"landcolor\":\"#E5ECF6\",\"subunitcolor\":\"white\",\"showland\":true,\"showlakes\":true,\"lakecolor\":\"white\"},\"title\":{\"x\":0.05},\"mapbox\":{\"style\":\"light\"}}}},                        {\"responsive\": true}                    ).then(function(){\n",
       "                            \n",
       "var gd = document.getElementById('130d22b2-1c29-45ed-a116-eb2346cc7a99');\n",
       "var x = new MutationObserver(function (mutations, observer) {{\n",
       "        var display = window.getComputedStyle(gd).display;\n",
       "        if (!display || display === 'none') {{\n",
       "            console.log([gd, 'removed!']);\n",
       "            Plotly.purge(gd);\n",
       "            observer.disconnect();\n",
       "        }}\n",
       "}});\n",
       "\n",
       "// Listen for the removal of the full notebook cells\n",
       "var notebookContainer = gd.closest('#notebook-container');\n",
       "if (notebookContainer) {{\n",
       "    x.observe(notebookContainer, {childList: true});\n",
       "}}\n",
       "\n",
       "// Listen for the clearing of the current output cell\n",
       "var outputEl = gd.closest('.output');\n",
       "if (outputEl) {{\n",
       "    x.observe(outputEl, {childList: true});\n",
       "}}\n",
       "\n",
       "                        })                };                });            </script>        </div>"
      ]
     },
     "metadata": {},
     "output_type": "display_data"
    }
   ],
   "source": [
    "Movies = Netflix[Netflix['type'] == 'Movie'].shape[0]\n",
    "Tv_shows = Netflix[Netflix['type'] == 'TV Show'].shape[0]\n",
    "\n",
    "fig = go.Figure(data=[go.Pie(\n",
    "    labels=['Movies', 'Tv_shows'],\n",
    "    values=[Movies, Tv_shows],\n",
    "    hole=.5,\n",
    "    title='Movies vs TvShows',\n",
    "    marker_colors=['indigo', 'dogerblue']\n",
    ")])\n",
    "fig.show()"
   ]
  },
  {
   "cell_type": "code",
   "execution_count": 24,
   "id": "28f70094",
   "metadata": {},
   "outputs": [
    {
     "data": {
      "text/plain": [
       "rating\n",
       "TV-MA       2861\n",
       "TV-14       1928\n",
       "TV-PG        804\n",
       "R            665\n",
       "PG-13        386\n",
       "TV-Y         279\n",
       "TV-Y7        270\n",
       "PG           247\n",
       "TV-G         194\n",
       "NR            83\n",
       "G             39\n",
       "TV-Y7-FV       6\n",
       "UR             5\n",
       "NC-17          3\n",
       "Name: count, dtype: int64"
      ]
     },
     "execution_count": 24,
     "metadata": {},
     "output_type": "execute_result"
    }
   ],
   "source": [
    "Netflix.rating.value_counts()"
   ]
  },
  {
   "cell_type": "code",
   "execution_count": 25,
   "id": "9a92f428",
   "metadata": {},
   "outputs": [
    {
     "data": {
      "image/png": "[encoded data removed]",
      "text/plain": [
       "<Figure size 800x400 with 1 Axes>"
      ]
     },
     "metadata": {},
     "output_type": "display_data"
    }
   ],
   "source": [
    "plt.figure(figsize=(8,4))\n",
    "palette = sns.color_palette(\"viridis\", n_colors=10)\n",
    "ax = sns.barplot(\n",
    "    x=Netflix.rating.value_counts(),\n",
    "    y=Netflix.rating.value_counts().index,\n",
    "    data=Netflix,\n",
    "    orient=\"h\",\n",
    "    palette=palette\n",
    "    )\n",
    "plt.title(\"Ratings\")\n",
    "plt.xlabel(\"Counts\")\n",
    "plt.ylabel(\"Rating\")\n",
    "plt.tight_layout()\n",
    "plt.show()"
   ]
  },
  {
   "cell_type": "code",
   "execution_count": 26,
   "id": "8a210711",
   "metadata": {},
   "outputs": [
    {
     "data": {
      "image/png": "[encoded data removed]",
      "text/plain": [
       "<Figure size 800x400 with 1 Axes>"
      ]
     },
     "metadata": {},
     "output_type": "display_data"
    }
   ],
   "source": [
    "plt.figure(figsize=(8,4))\n",
    "palette = sns.color_palette(\"Dark2\")\n",
    "ax = sns.countplot(x='rating',data = Netflix,hue='type',palette=palette\n",
    "    )\n",
    "plt.title(\"Movies/TV Shows Ratings\")\n",
    "plt.xlabel(\"Rating\")\n",
    "plt.ylabel(\"Count\")\n",
    "plt.tight_layout()\n",
    "plt.show()"
   ]
  },
  {
   "cell_type": "markdown",
   "id": "a17a6a69",
   "metadata": {},
   "source": [
    "Highest count is TV-MA,\n",
    "Second highest is TV-14 and Third highest is TV-PG."
   ]
  },
  {
   "cell_type": "code",
   "execution_count": 27,
   "id": "b67ef26a",
   "metadata": {},
   "outputs": [
    {
     "data": {
      "text/plain": [
       "country\n",
       "United States                             2546\n",
       "India                                      923\n",
       "Unknown                                    505\n",
       "United Kingdom                             396\n",
       "Japan                                      224\n",
       "                                          ... \n",
       "Argentina, United States, Mexico             1\n",
       "Canada, Germany, France, United States       1\n",
       "Soviet Union, India                          1\n",
       "Taiwan, China, France, United States         1\n",
       "France, Belgium, Spain                       1\n",
       "Name: count, Length: 682, dtype: int64"
      ]
     },
     "execution_count": 27,
     "metadata": {},
     "output_type": "execute_result"
    }
   ],
   "source": [
    "Netflix.country.value_counts()"
   ]
  },
  {
   "cell_type": "code",
   "execution_count": 28,
   "id": "d143f01e",
   "metadata": {},
   "outputs": [
    {
     "data": {
      "text/plain": [
       "country\n",
       "United States     2546\n",
       "India              923\n",
       "Unknown            505\n",
       "United Kingdom     396\n",
       "Japan              224\n",
       "South Korea        183\n",
       "Canada             177\n",
       "Spain              134\n",
       "France             115\n",
       "Egypt              101\n",
       "Name: count, dtype: int64"
      ]
     },
     "execution_count": 28,
     "metadata": {},
     "output_type": "execute_result"
    }
   ],
   "source": [
    "Netflix.country.value_counts().head(10)"
   ]
  },
  {
   "cell_type": "code",
   "execution_count": 29,
   "id": "1a89adab",
   "metadata": {},
   "outputs": [
    {
     "data": {
      "image/png": "[encoded data removed]",
      "text/plain": [
       "<Figure size 800x400 with 1 Axes>"
      ]
     },
     "metadata": {},
     "output_type": "display_data"
    }
   ],
   "source": [
    "plt.figure(figsize=(8,4))\n",
    "palette = sns.color_palette(\"viridis\", n_colors=10)\n",
    "ax = sns.barplot(\n",
    "    x=Netflix.country.value_counts().head(10),\n",
    "    y=Netflix.country.value_counts().head(10).index,\n",
    "    data=Netflix,\n",
    "    orient=\"h\",\n",
    "    palette=palette\n",
    "    )\n",
    "plt.title(\"Top 10 Countries with Most Movies/Tv Shows\")\n",
    "plt.xlabel(\"Movies/Tv Shows\")\n",
    "plt.ylabel(\"Country\")\n",
    "plt.tight_layout()\n",
    "plt.show()\n"
   ]
  },
  {
   "cell_type": "markdown",
   "id": "8531f55d",
   "metadata": {},
   "source": [
    "# Year wise Count"
   ]
  },
  {
   "cell_type": "code",
   "execution_count": 30,
   "id": "f2b2d4bb",
   "metadata": {},
   "outputs": [
    {
     "data": {
      "image/png": "[encoded data removed]",
      "text/plain": [
       "<Figure size 1200x400 with 1 Axes>"
      ]
     },
     "metadata": {},
     "output_type": "display_data"
    }
   ],
   "source": [
    "top_15_years = Netflix['release_year'].value_counts().head(15)\n",
    "\n",
    "plt.figure(figsize=(12, 4))\n",
    "palette = sns.color_palette(\"Dark2\")\n",
    "ax = sns.countplot(\n",
    "    y=\"release_year\",\n",
    "    data=Netflix,\n",
    "    order=top_15_years.index,\n",
    "    palette=palette\n",
    ")\n",
    "plt.xlabel(\"Count\")\n",
    "plt.ylabel(\"Release Year\")\n",
    "plt.title(\"Top 15 Years with Most Release\")\n",
    "plt.tight_layout()\n",
    "plt.show()"
   ]
  },
  {
   "cell_type": "markdown",
   "id": "9a63fb4a",
   "metadata": {},
   "source": [
    "Highest Release in 2018 followed by 2017 and 2019"
   ]
  },
  {
   "cell_type": "code",
   "execution_count": 31,
   "id": "68f56896",
   "metadata": {},
   "outputs": [
    {
     "data": {
      "text/plain": [
       "director\n",
       "No Director               2376\n",
       "Raúl Campos, Jan Suter      18\n",
       "Marcus Raboy                16\n",
       "Jay Karas                   14\n",
       "Cathy Garcia-Molina         13\n",
       "Jay Chapman                 12\n",
       "Martin Scorsese             12\n",
       "Youssef Chahine             12\n",
       "Steven Spielberg            10\n",
       "David Dhawan                 9\n",
       "Name: count, dtype: int64"
      ]
     },
     "execution_count": 31,
     "metadata": {},
     "output_type": "execute_result"
    }
   ],
   "source": [
    "#Top 10 Directors\n",
    "Netflix.director.value_counts().head(10)"
   ]
  },
  {
   "cell_type": "code",
   "execution_count": 32,
   "id": "93b2f208",
   "metadata": {},
   "outputs": [
    {
     "data": {
      "text/plain": [
       "genres\n",
       "Documentaries                                       334\n",
       "Stand-Up Comedy                                     321\n",
       "Dramas, International Movies                        320\n",
       "Comedies, Dramas, International Movies              243\n",
       "Dramas, Independent Movies, International Movies    215\n",
       "Kids' TV                                            204\n",
       "Children & Family Movies                            177\n",
       "Documentaries, International Movies                 172\n",
       "Children & Family Movies, Comedies                  169\n",
       "Comedies, International Movies                      161\n",
       "Name: count, dtype: int64"
      ]
     },
     "execution_count": 32,
     "metadata": {},
     "output_type": "execute_result"
    }
   ],
   "source": [
    "Netflix.genres.value_counts().head(10)"
   ]
  },
  {
   "cell_type": "markdown",
   "id": "9ea639f5",
   "metadata": {},
   "source": [
    "# Genres"
   ]
  },
  {
   "cell_type": "code",
   "execution_count": 33,
   "id": "0c54812b",
   "metadata": {
    "scrolled": true
   },
   "outputs": [
    {
     "data": {
      "image/png": "[encoded data removed]",
      "text/plain": [
       "<Figure size 1000x400 with 1 Axes>"
      ]
     },
     "metadata": {},
     "output_type": "display_data"
    }
   ],
   "source": [
    "top_10_genres = Netflix['genres'].value_counts().head(10)\n",
    "\n",
    "plt.figure(figsize=(10, 4))\n",
    "palette = sns.color_palette(\"Dark2\")\n",
    "ax = sns.countplot(\n",
    "    y=\"genres\",\n",
    "    data=Netflix,\n",
    "    order=top_10_genres.index,\n",
    "    palette=palette\n",
    ")\n",
    "plt.xlabel(\"Count\")\n",
    "plt.ylabel(\"Genres\")\n",
    "plt.title(\"Top 10 Genres\")\n",
    "plt.tight_layout()\n",
    "plt.show()"
   ]
  },
  {
   "cell_type": "code",
   "execution_count": 34,
   "id": "3ea0d3b2",
   "metadata": {},
   "outputs": [
    {
     "data": {
      "image/png": "[encoded data removed]",
      "text/plain": [
       "<Figure size 1200x400 with 1 Axes>"
      ]
     },
     "metadata": {},
     "output_type": "display_data"
    }
   ],
   "source": [
    "plt.figure(figsize=(12,4))\n",
    "Netflix[Netflix[\"type\"]==\"Movie\"][\"genres\"].value_counts()[:10].plot(kind=\"barh\",color=\"darkorchid\")\n",
    "plt.xlabel(\"Count\")\n",
    "plt.ylabel(\"Genres\")\n",
    "plt.title(\"Top 10 Movie Genres\")\n",
    "plt.tight_layout()\n",
    "plt.show()"
   ]
  },
  {
   "cell_type": "code",
   "execution_count": 35,
   "id": "09dbcbd7",
   "metadata": {},
   "outputs": [
    {
     "data": {
      "image/png": "[encoded data removed]",
      "text/plain": [
       "<Figure size 1200x400 with 1 Axes>"
      ]
     },
     "metadata": {},
     "output_type": "display_data"
    }
   ],
   "source": [
    "plt.figure(figsize=(12,4))\n",
    "Netflix[Netflix[\"type\"]==\"TV Show\"][\"genres\"].value_counts()[:10].plot(kind=\"barh\",color=\"royalblue\")\n",
    "plt.xlabel(\"Count\")\n",
    "plt.ylabel(\"Genres\")\n",
    "plt.title(\"Top 10 Tv Show Genres\")\n",
    "plt.tight_layout()\n",
    "plt.show()"
   ]
  },
  {
   "cell_type": "markdown",
   "id": "fd1944c9",
   "metadata": {},
   "source": [
    "# Movies & TV Shows"
   ]
  },
  {
   "cell_type": "code",
   "execution_count": 36,
   "id": "cb947b1f",
   "metadata": {},
   "outputs": [
    {
     "data": {
      "text/plain": [
       "0                                              3%\n",
       "1                                            1920\n",
       "2                                      3 Heroines\n",
       "3       Blue Mountain State: The Rise of Thadland\n",
       "4                                  Blue Planet II\n",
       "                          ...                    \n",
       "7782                                   Blown Away\n",
       "7783                                Blue Exorcist\n",
       "7784                    Blue Is the Warmest Color\n",
       "7785                                 Blue Jasmine\n",
       "7786                                     Blue Jay\n",
       "Name: title, Length: 7770, dtype: object"
      ]
     },
     "execution_count": 36,
     "metadata": {},
     "output_type": "execute_result"
    }
   ],
   "source": [
    "Netflix['title']"
   ]
  },
  {
   "cell_type": "code",
   "execution_count": 37,
   "id": "08cfee52",
   "metadata": {},
   "outputs": [
    {
     "data": {
      "text/html": [
       "<div>\n",
       "<style scoped>\n",
       "    .dataframe tbody tr th:only-of-type {\n",
       "        vertical-align: middle;\n",
       "    }\n",
       "\n",
       "    .dataframe tbody tr th {\n",
       "        vertical-align: top;\n",
       "    }\n",
       "\n",
       "    .dataframe thead th {\n",
       "        text-align: right;\n",
       "    }\n",
       "</style>\n",
       "<table border=\"1\" class=\"dataframe\">\n",
       "  <thead>\n",
       "    <tr style=\"text-align: right;\">\n",
       "      <th></th>\n",
       "      <th>show_id</th>\n",
       "      <th>type</th>\n",
       "      <th>title</th>\n",
       "      <th>director</th>\n",
       "      <th>cast</th>\n",
       "      <th>country</th>\n",
       "      <th>date_added</th>\n",
       "      <th>release_year</th>\n",
       "      <th>rating</th>\n",
       "      <th>duration</th>\n",
       "      <th>genres</th>\n",
       "      <th>description</th>\n",
       "    </tr>\n",
       "  </thead>\n",
       "  <tbody>\n",
       "    <tr>\n",
       "      <th>1</th>\n",
       "      <td>s10</td>\n",
       "      <td>Movie</td>\n",
       "      <td>1920</td>\n",
       "      <td>Vikram Bhatt</td>\n",
       "      <td>Rajneesh Duggal, Adah Sharma, Indraneil Sengup...</td>\n",
       "      <td>India</td>\n",
       "      <td>15-Dec-17</td>\n",
       "      <td>2008</td>\n",
       "      <td>TV-MA</td>\n",
       "      <td>143</td>\n",
       "      <td>Horror Movies, International Movies, Thrillers</td>\n",
       "      <td>An architect and his wife move into a castle t...</td>\n",
       "    </tr>\n",
       "    <tr>\n",
       "      <th>2</th>\n",
       "      <td>s100</td>\n",
       "      <td>Movie</td>\n",
       "      <td>3 Heroines</td>\n",
       "      <td>Iman Brotoseno</td>\n",
       "      <td>Reza Rahadian, Bunga Citra Lestari, Tara Basro...</td>\n",
       "      <td>Indonesia</td>\n",
       "      <td>5-Jan-19</td>\n",
       "      <td>2016</td>\n",
       "      <td>TV-PG</td>\n",
       "      <td>124</td>\n",
       "      <td>Dramas, International Movies, Sports Movies</td>\n",
       "      <td>Three Indonesian women break records by becomi...</td>\n",
       "    </tr>\n",
       "    <tr>\n",
       "      <th>3</th>\n",
       "      <td>s1000</td>\n",
       "      <td>Movie</td>\n",
       "      <td>Blue Mountain State: The Rise of Thadland</td>\n",
       "      <td>Lev L. Spiro</td>\n",
       "      <td>Alan Ritchson, Darin Brooks, James Cade, Rob R...</td>\n",
       "      <td>United States</td>\n",
       "      <td>1-Mar-16</td>\n",
       "      <td>2016</td>\n",
       "      <td>R</td>\n",
       "      <td>90</td>\n",
       "      <td>Comedies</td>\n",
       "      <td>New NFL star Thad buys his old teammates' belo...</td>\n",
       "    </tr>\n",
       "    <tr>\n",
       "      <th>5</th>\n",
       "      <td>s1002</td>\n",
       "      <td>Movie</td>\n",
       "      <td>Blue Ruin</td>\n",
       "      <td>Jeremy Saulnier</td>\n",
       "      <td>Macon Blair, Devin Ratray, Amy Hargreaves, Kev...</td>\n",
       "      <td>United States, France</td>\n",
       "      <td>25-Feb-19</td>\n",
       "      <td>2013</td>\n",
       "      <td>R</td>\n",
       "      <td>90</td>\n",
       "      <td>Independent Movies, Thrillers</td>\n",
       "      <td>Bad news from the past unhinges vagabond Dwigh...</td>\n",
       "    </tr>\n",
       "    <tr>\n",
       "      <th>6</th>\n",
       "      <td>s1003</td>\n",
       "      <td>Movie</td>\n",
       "      <td>Blue Streak</td>\n",
       "      <td>Les Mayfield</td>\n",
       "      <td>Martin Lawrence, Luke Wilson, Peter Greene, Da...</td>\n",
       "      <td>Germany, United States</td>\n",
       "      <td>1-Jan-21</td>\n",
       "      <td>1999</td>\n",
       "      <td>PG-13</td>\n",
       "      <td>94</td>\n",
       "      <td>Action &amp; Adventure, Comedies</td>\n",
       "      <td>A jewel thief returns to his hiding place afte...</td>\n",
       "    </tr>\n",
       "  </tbody>\n",
       "</table>\n",
       "</div>"
      ],
      "text/plain": [
       "  show_id   type                                      title         director  \\\n",
       "1     s10  Movie                                       1920     Vikram Bhatt   \n",
       "2    s100  Movie                                 3 Heroines   Iman Brotoseno   \n",
       "3   s1000  Movie  Blue Mountain State: The Rise of Thadland     Lev L. Spiro   \n",
       "5   s1002  Movie                                  Blue Ruin  Jeremy Saulnier   \n",
       "6   s1003  Movie                                Blue Streak     Les Mayfield   \n",
       "\n",
       "                                                cast                 country  \\\n",
       "1  Rajneesh Duggal, Adah Sharma, Indraneil Sengup...                   India   \n",
       "2  Reza Rahadian, Bunga Citra Lestari, Tara Basro...               Indonesia   \n",
       "3  Alan Ritchson, Darin Brooks, James Cade, Rob R...           United States   \n",
       "5  Macon Blair, Devin Ratray, Amy Hargreaves, Kev...   United States, France   \n",
       "6  Martin Lawrence, Luke Wilson, Peter Greene, Da...  Germany, United States   \n",
       "\n",
       "  date_added  release_year rating  duration  \\\n",
       "1  15-Dec-17          2008  TV-MA       143   \n",
       "2   5-Jan-19          2016  TV-PG       124   \n",
       "3   1-Mar-16          2016      R        90   \n",
       "5  25-Feb-19          2013      R        90   \n",
       "6   1-Jan-21          1999  PG-13        94   \n",
       "\n",
       "                                           genres  \\\n",
       "1  Horror Movies, International Movies, Thrillers   \n",
       "2     Dramas, International Movies, Sports Movies   \n",
       "3                                        Comedies   \n",
       "5                   Independent Movies, Thrillers   \n",
       "6                    Action & Adventure, Comedies   \n",
       "\n",
       "                                         description  \n",
       "1  An architect and his wife move into a castle t...  \n",
       "2  Three Indonesian women break records by becomi...  \n",
       "3  New NFL star Thad buys his old teammates' belo...  \n",
       "5  Bad news from the past unhinges vagabond Dwigh...  \n",
       "6  A jewel thief returns to his hiding place afte...  "
      ]
     },
     "execution_count": 37,
     "metadata": {},
     "output_type": "execute_result"
    }
   ],
   "source": [
    "Movies_Netflix=Netflix.loc[(Netflix['type']==\"Movie\")]\n",
    "Movies_Netflix.head(5)"
   ]
  },
  {
   "cell_type": "code",
   "execution_count": 38,
   "id": "4027d101",
   "metadata": {},
   "outputs": [
    {
     "data": {
      "text/html": [
       "<div>\n",
       "<style scoped>\n",
       "    .dataframe tbody tr th:only-of-type {\n",
       "        vertical-align: middle;\n",
       "    }\n",
       "\n",
       "    .dataframe tbody tr th {\n",
       "        vertical-align: top;\n",
       "    }\n",
       "\n",
       "    .dataframe thead th {\n",
       "        text-align: right;\n",
       "    }\n",
       "</style>\n",
       "<table border=\"1\" class=\"dataframe\">\n",
       "  <thead>\n",
       "    <tr style=\"text-align: right;\">\n",
       "      <th></th>\n",
       "      <th>show_id</th>\n",
       "      <th>type</th>\n",
       "      <th>title</th>\n",
       "      <th>director</th>\n",
       "      <th>cast</th>\n",
       "      <th>country</th>\n",
       "      <th>date_added</th>\n",
       "      <th>release_year</th>\n",
       "      <th>rating</th>\n",
       "      <th>duration</th>\n",
       "      <th>genres</th>\n",
       "      <th>description</th>\n",
       "    </tr>\n",
       "  </thead>\n",
       "  <tbody>\n",
       "    <tr>\n",
       "      <th>0</th>\n",
       "      <td>s1</td>\n",
       "      <td>TV Show</td>\n",
       "      <td>3%</td>\n",
       "      <td>No Director</td>\n",
       "      <td>João Miguel, Bianca Comparato, Michel Gomes, R...</td>\n",
       "      <td>Brazil</td>\n",
       "      <td>14-Aug-20</td>\n",
       "      <td>2020</td>\n",
       "      <td>TV-MA</td>\n",
       "      <td>4</td>\n",
       "      <td>International TV Shows, TV Dramas, TV Sci-Fi &amp;...</td>\n",
       "      <td>In a future where the elite inhabit an island ...</td>\n",
       "    </tr>\n",
       "    <tr>\n",
       "      <th>4</th>\n",
       "      <td>s1001</td>\n",
       "      <td>TV Show</td>\n",
       "      <td>Blue Planet II</td>\n",
       "      <td>No Director</td>\n",
       "      <td>David Attenborough</td>\n",
       "      <td>United Kingdom</td>\n",
       "      <td>3-Dec-18</td>\n",
       "      <td>2017</td>\n",
       "      <td>TV-G</td>\n",
       "      <td>1</td>\n",
       "      <td>British TV Shows, Docuseries, Science &amp; Nature TV</td>\n",
       "      <td>This sequel to the award-winning nature series...</td>\n",
       "    </tr>\n",
       "    <tr>\n",
       "      <th>10</th>\n",
       "      <td>s1007</td>\n",
       "      <td>TV Show</td>\n",
       "      <td>BNA</td>\n",
       "      <td>No Director</td>\n",
       "      <td>Sumire Morohoshi, Yoshimasa Hosoya, Maria Naga...</td>\n",
       "      <td>Japan</td>\n",
       "      <td>30-Jun-20</td>\n",
       "      <td>2020</td>\n",
       "      <td>TV-14</td>\n",
       "      <td>1</td>\n",
       "      <td>Anime Series, International TV Shows</td>\n",
       "      <td>Morphed into a raccoon beastman, Michiru seeks...</td>\n",
       "    </tr>\n",
       "    <tr>\n",
       "      <th>15</th>\n",
       "      <td>s1011</td>\n",
       "      <td>TV Show</td>\n",
       "      <td>Bo on the Go!</td>\n",
       "      <td>No Director</td>\n",
       "      <td>Catherine O'Connor, Andrew Sabiston, Jim Fowler</td>\n",
       "      <td>Canada</td>\n",
       "      <td>21-Mar-19</td>\n",
       "      <td>2007</td>\n",
       "      <td>TV-Y</td>\n",
       "      <td>1</td>\n",
       "      <td>Kids' TV</td>\n",
       "      <td>Staying at home doesn't mean sitting still for...</td>\n",
       "    </tr>\n",
       "    <tr>\n",
       "      <th>17</th>\n",
       "      <td>s1013</td>\n",
       "      <td>TV Show</td>\n",
       "      <td>Bob Ross: Beauty Is Everywhere</td>\n",
       "      <td>No Director</td>\n",
       "      <td>Bob Ross</td>\n",
       "      <td>Unknown</td>\n",
       "      <td>1-Jun-16</td>\n",
       "      <td>1991</td>\n",
       "      <td>TV-G</td>\n",
       "      <td>1</td>\n",
       "      <td>TV Shows</td>\n",
       "      <td>\"The Joy of Painting\" host Bob Ross brings his...</td>\n",
       "    </tr>\n",
       "  </tbody>\n",
       "</table>\n",
       "</div>"
      ],
      "text/plain": [
       "   show_id     type                           title     director  \\\n",
       "0       s1  TV Show                              3%  No Director   \n",
       "4    s1001  TV Show                  Blue Planet II  No Director   \n",
       "10   s1007  TV Show                             BNA  No Director   \n",
       "15   s1011  TV Show                   Bo on the Go!  No Director   \n",
       "17   s1013  TV Show  Bob Ross: Beauty Is Everywhere  No Director   \n",
       "\n",
       "                                                 cast         country  \\\n",
       "0   João Miguel, Bianca Comparato, Michel Gomes, R...          Brazil   \n",
       "4                                  David Attenborough  United Kingdom   \n",
       "10  Sumire Morohoshi, Yoshimasa Hosoya, Maria Naga...           Japan   \n",
       "15    Catherine O'Connor, Andrew Sabiston, Jim Fowler          Canada   \n",
       "17                                           Bob Ross         Unknown   \n",
       "\n",
       "   date_added  release_year rating  duration  \\\n",
       "0   14-Aug-20          2020  TV-MA         4   \n",
       "4    3-Dec-18          2017   TV-G         1   \n",
       "10  30-Jun-20          2020  TV-14         1   \n",
       "15  21-Mar-19          2007   TV-Y         1   \n",
       "17   1-Jun-16          1991   TV-G         1   \n",
       "\n",
       "                                               genres  \\\n",
       "0   International TV Shows, TV Dramas, TV Sci-Fi &...   \n",
       "4   British TV Shows, Docuseries, Science & Nature TV   \n",
       "10               Anime Series, International TV Shows   \n",
       "15                                           Kids' TV   \n",
       "17                                           TV Shows   \n",
       "\n",
       "                                          description  \n",
       "0   In a future where the elite inhabit an island ...  \n",
       "4   This sequel to the award-winning nature series...  \n",
       "10  Morphed into a raccoon beastman, Michiru seeks...  \n",
       "15  Staying at home doesn't mean sitting still for...  \n",
       "17  \"The Joy of Painting\" host Bob Ross brings his...  "
      ]
     },
     "execution_count": 38,
     "metadata": {},
     "output_type": "execute_result"
    }
   ],
   "source": [
    "Tv_Show_Netflix=Netflix.loc[(Netflix['type']==\"TV Show\")]\n",
    "Tv_Show_Netflix.head(5)"
   ]
  },
  {
   "cell_type": "code",
   "execution_count": 39,
   "id": "16656927",
   "metadata": {},
   "outputs": [
    {
     "data": {
      "text/plain": [
       "duration\n",
       "6     30\n",
       "7     19\n",
       "8     18\n",
       "9      8\n",
       "10     5\n",
       "11     2\n",
       "12     2\n",
       "15     2\n",
       "13     1\n",
       "16     1\n",
       "Name: count, dtype: int64"
      ]
     },
     "execution_count": 39,
     "metadata": {},
     "output_type": "execute_result"
    }
   ],
   "source": [
    "Tv_Show_Netflix.duration.value_counts().tail(10)"
   ]
  },
  {
   "cell_type": "code",
   "execution_count": 40,
   "id": "e6be2ed2",
   "metadata": {},
   "outputs": [
    {
     "data": {
      "text/html": [
       "<div>\n",
       "<style scoped>\n",
       "    .dataframe tbody tr th:only-of-type {\n",
       "        vertical-align: middle;\n",
       "    }\n",
       "\n",
       "    .dataframe tbody tr th {\n",
       "        vertical-align: top;\n",
       "    }\n",
       "\n",
       "    .dataframe thead th {\n",
       "        text-align: right;\n",
       "    }\n",
       "</style>\n",
       "<table border=\"1\" class=\"dataframe\">\n",
       "  <thead>\n",
       "    <tr style=\"text-align: right;\">\n",
       "      <th></th>\n",
       "      <th>show_id</th>\n",
       "      <th>type</th>\n",
       "      <th>title</th>\n",
       "      <th>director</th>\n",
       "      <th>cast</th>\n",
       "      <th>country</th>\n",
       "      <th>date_added</th>\n",
       "      <th>release_year</th>\n",
       "      <th>rating</th>\n",
       "      <th>duration</th>\n",
       "      <th>genres</th>\n",
       "      <th>description</th>\n",
       "    </tr>\n",
       "  </thead>\n",
       "  <tbody>\n",
       "    <tr>\n",
       "      <th>526</th>\n",
       "      <td>s1472</td>\n",
       "      <td>TV Show</td>\n",
       "      <td>COMEDIANS of the world</td>\n",
       "      <td>No Director</td>\n",
       "      <td>Neal Brennan, Chris D'Elia, Nicole Byer, Nick ...</td>\n",
       "      <td>United States</td>\n",
       "      <td>1-Jan-19</td>\n",
       "      <td>2019</td>\n",
       "      <td>TV-MA</td>\n",
       "      <td>13</td>\n",
       "      <td>Stand-Up Comedy &amp; Talk Shows, TV Comedies</td>\n",
       "      <td>This global stand-up comedy series features a ...</td>\n",
       "    </tr>\n",
       "    <tr>\n",
       "      <th>1711</th>\n",
       "      <td>s2539</td>\n",
       "      <td>TV Show</td>\n",
       "      <td>Grey's Anatomy</td>\n",
       "      <td>No Director</td>\n",
       "      <td>Ellen Pompeo, Sandra Oh, Katherine Heigl, Just...</td>\n",
       "      <td>United States</td>\n",
       "      <td>9-May-20</td>\n",
       "      <td>2019</td>\n",
       "      <td>TV-14</td>\n",
       "      <td>16</td>\n",
       "      <td>Romantic TV Shows, TV Dramas</td>\n",
       "      <td>Intern (and eventual resident) Meredith Grey f...</td>\n",
       "    </tr>\n",
       "    <tr>\n",
       "      <th>3822</th>\n",
       "      <td>s4439</td>\n",
       "      <td>TV Show</td>\n",
       "      <td>NCIS</td>\n",
       "      <td>No Director</td>\n",
       "      <td>Mark Harmon, Michael Weatherly, Pauley Perrett...</td>\n",
       "      <td>United States</td>\n",
       "      <td>1-Jul-18</td>\n",
       "      <td>2017</td>\n",
       "      <td>TV-14</td>\n",
       "      <td>15</td>\n",
       "      <td>Crime TV Shows, TV Dramas, TV Mysteries</td>\n",
       "      <td>Follow the quirky agents of the NCIS – the Nav...</td>\n",
       "    </tr>\n",
       "    <tr>\n",
       "      <th>5460</th>\n",
       "      <td>s5913</td>\n",
       "      <td>TV Show</td>\n",
       "      <td>Supernatural</td>\n",
       "      <td>Phil Sgriccia</td>\n",
       "      <td>Jared Padalecki, Jensen Ackles, Mark Sheppard,...</td>\n",
       "      <td>United States, Canada</td>\n",
       "      <td>5-Jun-20</td>\n",
       "      <td>2019</td>\n",
       "      <td>TV-14</td>\n",
       "      <td>15</td>\n",
       "      <td>Classic &amp; Cult TV, TV Action &amp; Adventure, TV H...</td>\n",
       "      <td>Siblings Dean and Sam crisscross the country, ...</td>\n",
       "    </tr>\n",
       "  </tbody>\n",
       "</table>\n",
       "</div>"
      ],
      "text/plain": [
       "     show_id     type                   title       director  \\\n",
       "526    s1472  TV Show  COMEDIANS of the world    No Director   \n",
       "1711   s2539  TV Show          Grey's Anatomy    No Director   \n",
       "3822   s4439  TV Show                    NCIS    No Director   \n",
       "5460   s5913  TV Show            Supernatural  Phil Sgriccia   \n",
       "\n",
       "                                                   cast  \\\n",
       "526   Neal Brennan, Chris D'Elia, Nicole Byer, Nick ...   \n",
       "1711  Ellen Pompeo, Sandra Oh, Katherine Heigl, Just...   \n",
       "3822  Mark Harmon, Michael Weatherly, Pauley Perrett...   \n",
       "5460  Jared Padalecki, Jensen Ackles, Mark Sheppard,...   \n",
       "\n",
       "                    country date_added  release_year rating  duration  \\\n",
       "526           United States   1-Jan-19          2019  TV-MA        13   \n",
       "1711          United States   9-May-20          2019  TV-14        16   \n",
       "3822          United States   1-Jul-18          2017  TV-14        15   \n",
       "5460  United States, Canada   5-Jun-20          2019  TV-14        15   \n",
       "\n",
       "                                                 genres  \\\n",
       "526           Stand-Up Comedy & Talk Shows, TV Comedies   \n",
       "1711                       Romantic TV Shows, TV Dramas   \n",
       "3822            Crime TV Shows, TV Dramas, TV Mysteries   \n",
       "5460  Classic & Cult TV, TV Action & Adventure, TV H...   \n",
       "\n",
       "                                            description  \n",
       "526   This global stand-up comedy series features a ...  \n",
       "1711  Intern (and eventual resident) Meredith Grey f...  \n",
       "3822  Follow the quirky agents of the NCIS – the Nav...  \n",
       "5460  Siblings Dean and Sam crisscross the country, ...  "
      ]
     },
     "execution_count": 40,
     "metadata": {},
     "output_type": "execute_result"
    }
   ],
   "source": [
    "#Show wiyh highest no. of season\n",
    "longest_shows=Tv_Show_Netflix.loc[(Tv_Show_Netflix['duration']>=13)]\n",
    "longest_shows"
   ]
  },
  {
   "cell_type": "code",
   "execution_count": 41,
   "id": "4d85ea56",
   "metadata": {},
   "outputs": [
    {
     "data": {
      "text/plain": [
       "rating\n",
       "TV-14    3\n",
       "TV-MA    1\n",
       "Name: count, dtype: int64"
      ]
     },
     "execution_count": 41,
     "metadata": {},
     "output_type": "execute_result"
    }
   ],
   "source": [
    "longest_shows.rating.value_counts()"
   ]
  },
  {
   "cell_type": "markdown",
   "id": "026706c5",
   "metadata": {},
   "source": [
    "# Release Year"
   ]
  },
  {
   "cell_type": "code",
   "execution_count": 42,
   "id": "1f5a18c1",
   "metadata": {},
   "outputs": [
    {
     "data": {
      "text/plain": [
       "release_year\n",
       "2018    1120\n",
       "2017    1010\n",
       "2019     996\n",
       "2016     881\n",
       "2020     868\n",
       "2015     536\n",
       "2014     334\n",
       "2013     265\n",
       "2012     218\n",
       "2010     171\n",
       "Name: count, dtype: int64"
      ]
     },
     "execution_count": 42,
     "metadata": {},
     "output_type": "execute_result"
    }
   ],
   "source": [
    "Netflix.release_year.value_counts().head(10)"
   ]
  },
  {
   "cell_type": "code",
   "execution_count": 43,
   "id": "adea79a5",
   "metadata": {},
   "outputs": [
    {
     "data": {
      "image/png": "[encoded data removed]",
      "text/plain": [
       "<Figure size 1600x400 with 1 Axes>"
      ]
     },
     "metadata": {},
     "output_type": "display_data"
    }
   ],
   "source": [
    "plt.figure(figsize=(16, 4))\n",
    "plt.style.use('seaborn-whitegrid')\n",
    "plt.hist(Netflix[\"release_year\"],bins = 90, facecolor = '#06c2ac', edgecolor='black', linewidth=1.5)\n",
    "plt.title('Distribution')\n",
    "plt.xlabel('Year of Release')\n",
    "plt.ylabel('Count')\n",
    "plt.show()"
   ]
  },
  {
   "cell_type": "markdown",
   "id": "12954be0",
   "metadata": {},
   "source": [
    "# Movies & Series in India"
   ]
  },
  {
   "cell_type": "code",
   "execution_count": 44,
   "id": "e8a2016a",
   "metadata": {},
   "outputs": [],
   "source": [
    "Movies_only_in_India = Netflix[(Netflix[\"type\"] == \"Movie\") & (Netflix[\"country\"] == \"India\")][\"title\"]"
   ]
  },
  {
   "cell_type": "code",
   "execution_count": 45,
   "id": "5423cdae",
   "metadata": {},
   "outputs": [
    {
     "data": {
      "text/plain": [
       "852"
      ]
     },
     "execution_count": 45,
     "metadata": {},
     "output_type": "execute_result"
    }
   ],
   "source": [
    "Movies_only_in_India.count()"
   ]
  },
  {
   "cell_type": "code",
   "execution_count": 46,
   "id": "6debdaa2",
   "metadata": {},
   "outputs": [
    {
     "data": {
      "text/plain": [
       "array(['1920', 'BluffMaster!', '3 Idiots', 'Bobby', 'Bobby Jasoos',\n",
       "       'Bodyguard', 'Bogda', 'Bollywood Calling', 'Bombay Talkies',\n",
       "       'Boom', 'Boss', 'Break Ke Baad', 'Breaking Free',\n",
       "       'Brij Mohan Amar Rahe', 'Bucket List', 'Budhia Singh: Born to Run',\n",
       "       'Bulbbul', 'Bulbul Can Sing', 'Bypass Road', 'C Kkompany',\n",
       "       'Calendar Girls', 'Candyflip', 'Cappuccino',\n",
       "       'Care of Kancharapalem', 'Cargo', 'Celluloid Man', 'Chaahat',\n",
       "       'Chaar\\xa0Sahibzaade', 'Chadi Jawani Budhe Nu', 'Chal Bhaag',\n",
       "       'Chal Dhar Pakad', 'Chal Mere Bhai', 'Chalte Chalte',\n",
       "       'Chaman Bahaar', 'Chamatkar', 'Chameli', 'Chance Pe Dance',\n",
       "       'Chashme Baddoor', 'Chashme Buddoor', '6-5=2', 'Chennai Express',\n",
       "       'Chhota Bheem and the Curse of Damyaan',\n",
       "       'Chhota Bheem Kungfu Dhamaka', 'Chicken Kokkachi', 'Chillar Party',\n",
       "       'Chippa', 'Choked: Paisa Bolta Hai', 'Chopsticks', '7 Khoon Maaf',\n",
       "       'Chup Chup Ke', 'Chupke Chupke', 'CIA: Comrade in America',\n",
       "       \"Class of '83\", '90 ML', 'Coffee with D', 'Colkatay Columbus',\n",
       "       'Colours of Passion', 'Company', 'Contract',\n",
       "       'A Billion Colour Story', 'CRD', 'Cycle', 'Daagdi Chaawl',\n",
       "       'Daffedar', 'Dangal', 'Dark Chocolate (Bengali Version)',\n",
       "       'Darna Mana Hai', 'Darra', 'Deadline: Sirf 24 Ghante', 'Dear Dad',\n",
       "       'Dear Zindagi', 'Dedh Ishqiya', 'Deewana Main Deewana',\n",
       "       'Deewangee', 'Delhi 6', 'Delhi Belly', 'Dev.D', 'A Flying Jatt',\n",
       "       'Devrai', 'Dhamaal', 'Dhanak', 'Dharam Sankat Mein', 'Dhh',\n",
       "       'Dhobi Ghat (Mumbai Diaries)', 'Dhoondte Reh Jaoge', 'Dil',\n",
       "       'Dil Chahta Hai', 'Dil Dhadakne Do', 'Dil Hai Tumhaara', 'Dil Se',\n",
       "       'Dil Vil Pyaar Vyaar', 'Dilwale', 'Disco Dancer', 'Do Dooni Chaar',\n",
       "       'Do Paise Ki Dhoop Chaar Aane Ki Baarish',\n",
       "       'Dolly Kitty Aur Woh Chamakte Sitare', 'Don', 'Door Ke Darshan',\n",
       "       'Dorasaani', 'Drishyam', 'Drive', 'Dum', 'Duniya', 'Duplicate',\n",
       "       '15-Aug', 'Echcharikkai', 'Ee Nagaraniki Emaindi', 'Eeda',\n",
       "       'Eh Janam Tumhare Lekhe', 'Ek Cup Chya', 'Ek Hasina Thi',\n",
       "       'Ek Jaan Hain Hum', 'Ek Khiladi Ek Haseena',\n",
       "       'Ek Ladki Ko Dekha Toh Aisa Laga', 'Ek Main Aur Ekk Tu', 'Elaan',\n",
       "       'EMI: Liya Hai To Chukana Padega', 'Encounter: The Killing',\n",
       "       'English Babu Desi Mem', 'Ethirmarai', 'Evening Shadows',\n",
       "       'Evvarikee Cheppoddu', 'Fakta Ladh Mhana',\n",
       "       '\\u200b\\u200bKuch Bheege Alfaaz', 'Famous in Ahmedabad', 'Fandry',\n",
       "       'Fashion', 'Fatso', 'Ferrari Ki Sawaari', 'Fida',\n",
       "       'Fire in the Blood', 'Firebrand', 'Fireflies', 'Fitoor',\n",
       "       '\\u200bGoli Soda 2', 'Fiza', 'A Scandall', 'Force 2', 'Forensic',\n",
       "       'Friendship', '\\u200bMaj Rati \\u200b\\u200bKeteki', 'Fukrey',\n",
       "       'Fukrey Boyzzz: Space Mein Fukrapanti', 'Gabbar Is Back',\n",
       "       'Gaddar: the Traitor', 'Game', 'Gangaajal', 'Garbage', 'Gelo',\n",
       "       'Gemini', 'Genius', 'Ghanchakkar', 'Ghayal', '\\u200bMayurakshi',\n",
       "       'Ghost Stories', 'Ghulam-E-Musthafa', 'Ginny Weds Sunny',\n",
       "       'A truthful Mother', 'Gol Maal', 'Gollu Aur Pappu',\n",
       "       'Golmaal Returns', 'Golmaal: Fun Unlimited',\n",
       "       'Gori Tere Pyaar Mein', 'Gour Hari Dastaan: The Freedom File',\n",
       "       'Grand Masti', 'Grandmaster', 'A Wednesday', 'Guilty', 'Gumrah',\n",
       "       'Guna 369', 'Gunjan Saxena: The Kargil Girl', 'Gurgaon', 'Guru',\n",
       "       'Guzaarish', 'Haani', 'Haapus', 'Haider', 'Half Girlfriend',\n",
       "       'Halkaa', 'Hamara Dil Aapke Paas Hai', 'Hamid', 'Happy Go Lucky',\n",
       "       'Happy New Year', 'Har Kisse Ke Hisse: Kaamyaab', 'Haraamkhor',\n",
       "       'Harishchandrachi Factory', 'Harud', 'Hasee Toh Phasee',\n",
       "       'Haseena Maan Jaayegi', 'Aadu 2', 'Hattrick', 'Aagey Se Right',\n",
       "       'Hawaizaada', 'Aajcha Divas Majha', 'Aakhri Adaalat', 'Aalorukkam',\n",
       "       'Hello Brother', 'Aamir', 'Hera Pheri', 'Aapla Manus', 'Heroine',\n",
       "       'Aarakshan', 'Hide & Seek', 'High End Yaariyan', 'Aashayein',\n",
       "       'Highway', 'Aashik Awara', 'Himmatwala', 'Aata Pita',\n",
       "       'History of Joy', 'Aaviri', 'Abby Sen', 'Hombanna', 'ABCD 2',\n",
       "       'Honeymoon Travels Pvt. Ltd.', 'ABCD: Any Body Can Dance',\n",
       "       'Hope Aur Hum', 'Horror Story', 'House Arrest', 'Abhinetri',\n",
       "       'Hridaynath', 'Hum Aapke Hain Koun', 'Hum Saath-Saath Hain',\n",
       "       'Humko Deewana Kar Gaye', 'Humpty Sharma Ki Dulhania', 'Hunterrr',\n",
       "       'Husbands in Goa', 'I Am Kalam', 'I Hate Luv Storys',\n",
       "       'Ideachi Kalpana', 'III Smoking Barrels', 'Imago', 'Incomplete',\n",
       "       'INDIA', 'Inkaar', 'Action Replayy', 'Insan', 'Interrogation',\n",
       "       'Iqbal', 'Irada Pakka', 'Ishq Vishk', 'Ishqedarriyaan', 'Ishqiya',\n",
       "       'Issaq', 'Ittefaq', 'Jaal',\n",
       "       \"Jaan-E-Mann: Let's Fall in Love... Again\",\n",
       "       'Jaane Tu... Ya Jaane Na', 'Jab Harry Met Sejal', 'Jab We Met',\n",
       "       'Jada', 'Jagga Jasoos', 'Jai Mummy Di', 'Jail', 'Jal',\n",
       "       'Jalpari: The Desert Mermaid', 'Adhugo', 'Jaoon Kahan Bata Ae Dil',\n",
       "       'Jatt James Bond', \"Aditi Mittal: Things They Wouldn't Let Me Say\",\n",
       "       'Jatts in Golmaal', 'Adrishya', 'Jhankaar Beats', 'Jindua',\n",
       "       'Jodhaa Akbar', 'John & Jane', 'John Day', 'Joker', 'Jonaki',\n",
       "       'Jora 10 Numbaria', 'Judge Singh LLB', 'Judwaa', 'Judwaa 2',\n",
       "       'Kaabil', 'Kaagar', 'Kaakan', 'Kaake Da Viyah', 'Kaal',\n",
       "       'Kaali Khuhi', 'Kaalia', 'Kaaliyan', 'Kabali (Hindi Version)',\n",
       "       'Kabhi Alvida Naa Kehna', 'Kabhi Haan Kabhi Naa',\n",
       "       'Kabhi Khushi Kabhie Gham', 'Kabir Singh', 'Kacche Dhaagey',\n",
       "       'Kahaani', 'Kai Po Che!', 'Kajraare', 'Kal Ho Naa Ho',\n",
       "       'Kalakalappu', 'Kalki', 'Kaminey', 'Kanavu Variyam', 'Kanika',\n",
       "       'Kannum Kannum Kollaiyadithaal', 'Kapoor & Sons', 'Kappela',\n",
       "       'Karthik Calling Karthik', 'Karzzzz', 'Katha', 'Katti Batti',\n",
       "       'Kaviyude Osyath', 'Kay Dyache Bola', 'KD (A) Karuppudurai',\n",
       "       'Kenny Sebastian: The Most Interesting Person in the Room',\n",
       "       'Khalnayak', 'Khido Khundi', 'Khoobsurat', 'Khoon Khoon',\n",
       "       'Khosla Ka Ghosla', 'Khubsoorat', 'Khushi', 'Kia and Cosmos',\n",
       "       'Killa', 'Kis Kisko Pyaar Karoon', 'Kisaan', 'Kismat Konnection',\n",
       "       'Koi Aap Sa', 'Kolaiyuthir Kaalam', 'Agneepath', 'Koshish',\n",
       "       'Krish Trish and Baltiboy: Face Your Fears',\n",
       "       'Krishna and His Leela', 'Krishna Cottage', 'Krutant', 'Agyaat',\n",
       "       'Kucch To Hai', 'Kuch Kuch Hota Hai',\n",
       "       \"Kuldip Patwal: I Didn't Do It!\", 'Ahista Ahista', 'Kurbaan',\n",
       "       'Kya Kehna', 'Kyaa Kool Hai Hum', 'Kyaa Kool Hain Hum 3',\n",
       "       'Kyo Kii... Main Jhuth Nahin Bolta', 'Kyun! Ho Gaya Na',\n",
       "       'Laal Rang', 'Laatu', 'Ladies First', 'Lagaan', 'Lakeeran',\n",
       "       'Lakshya', 'Lal Patthar', 'Lalbaug Parel: Zali Mumbai Sonyachi',\n",
       "       'Aisa Yeh Jahaan', 'Aitraaz', 'Aiyaary', 'Lechmi', 'Aiyyaa',\n",
       "       'Ajab Prem Ki Ghazab Kahani', 'Lens', \"Liar's Dice\", 'Ajji',\n",
       "       'Life in a ... Metro', 'Life Ki Toh Lag Gayi',\n",
       "       'Life of An Outcast', 'AK vs AK', 'Lilli', 'Limitless',\n",
       "       'Ala Vaikunthapurramuloo', 'Lock', 'Loev', 'Lorai: Play to Live',\n",
       "       'Albert Pinto Ko Gussa Kyun Aata Hai?', 'Love Aaj Kal',\n",
       "       'Love and Shukla', 'Love Ni Bhavai', 'Love Per Square Foot',\n",
       "       'LSD: Love, Sex Aur Dhokha', 'Luck by Chance', 'Luckee',\n",
       "       'Lucknow Central', 'Lucky: No Time for Love', 'Ludo',\n",
       "       'Luka Chuppi', 'Lupt', 'Lust Stories',\n",
       "       'Luv Shuv Tey Chicken Khurana', 'Ma Chu Ka',\n",
       "       'Macchli Jal Ki Rani Hai', 'Madaari', 'Made in China',\n",
       "       'Madness in the Desert', 'Madras Café', 'Magnificent',\n",
       "       'Mahabharat', 'Main aurr Mrs. Khanna', 'Main Hoon Na',\n",
       "       'Main, Meri Patni Aur Woh', 'Maine Pyaar Kyun Kiya',\n",
       "       'Maine Pyar Kiya', 'Mala Kahich Problem Nahi', 'Malaal', 'Malang',\n",
       "       'Mallesham', 'Mandi', 'Mandobasar Galpo', 'Maniyarayile Ashokan',\n",
       "       'Manje Bistre', 'Manmadhudu 2', 'Mann', 'Manorama Six Feet Under',\n",
       "       'Manoranjan', 'Manto', 'Mantostaan', 'Mantra', 'Manu',\n",
       "       'Manusangada', 'Maroon', 'Marriage Palace', 'Martyrs of Marriage',\n",
       "       'Mary Kom', 'Maska', 'Masoom', 'Matichya Chuli', 'Mauli',\n",
       "       'Maza Pati Karodpati', 'Meghnadbodh Rohoshyo', 'Mehandi Circus',\n",
       "       'Melle', 'Mere Pyare Prime Minister', 'Merku Thodarchi Malai',\n",
       "       'Mersal', 'Metro', 'Mi Shivajiraje Bhosale Boltoy', 'Michael',\n",
       "       'Mighty Raju Rio Calling', 'Minnaminugu the FireFly', 'Mirzya',\n",
       "       'Mischief', 'Miss India',\n",
       "       'Mission Istaanbul: Darr Ke Aagey Jeet Hai', 'Moh Maya Money',\n",
       "       'Mohenjo Daro', 'Mom', 'Morya', 'Motichoor Chaknachoor',\n",
       "       'Motor Mitraan Di', 'Motu Patlu: King of Kings',\n",
       "       'Mr. Chandramouli', 'Mrs. Serial Killer', 'Mubarakan', 'Mugamoodi',\n",
       "       'Mujhse Shaadi Karogi', 'Mujrim', 'Mumbai Cha Raja',\n",
       "       'Mumbai Delhi Mumbai', 'Mumbai Matinee', 'Mumbai Meri Jaan',\n",
       "       'Mundeyan Ton Bachke Rahin', 'Muqaddar ka Faisla', 'Muramba',\n",
       "       'Muran', 'Music Teacher', 'Muzaffarnagar Baaqi Hai',\n",
       "       'My Birthday Song', 'My Brother ... Nikhil', 'My Friend Pinto',\n",
       "       'Mythily Veendum Varunnu', 'Naa Bangaaru Talli', 'Naam Shabana',\n",
       "       'Naan Sigappu Manithan', 'Namak Halaal', 'Namastey London',\n",
       "       'Nasha', 'Nathicharami', 'Natsamrat - Asa Nat Hone Nahi',\n",
       "       'Naughty Jatts', 'Needhi Singh', 'Neevevaro', 'Next Enti?',\n",
       "       'Nibunan', 'Amar Akbar Anthony', 'Nila', 'Njan Prakashan',\n",
       "       'No Entry', 'No One Killed Jessica', 'Noblemen', 'Odu Raja Odu',\n",
       "       'Oh Darling Yeh Hai India', 'Oh My God', 'Oh! Baby',\n",
       "       'Om Shanti Om', 'Onaatah', 'Once Upon a Time in Mumbaai',\n",
       "       'Once Upon a Time in Mumbai Dobaara!', 'One 2 Ka 4', 'One by Two',\n",
       "       'One Day: Justice Delivered',\n",
       "       'One Heart: The A.R. Rahman Concert Film', 'One Night Stand',\n",
       "       'Oru Vishsheshapetta Biryani Kissa', 'Oththa Seruppu Size 7',\n",
       "       'Ottaal', 'Oye Lucky! Lucky Oye!', 'P Se PM Tak',\n",
       "       'Paan Singh Tomar', 'Paathi', 'Pad Man', 'Paharganj', 'Paheli',\n",
       "       'Pandigai', 'Panipat - The Great Betrayal', 'Papa the Great',\n",
       "       'Pardes', 'Pareeth Pandaari', 'Amit Tandon: Family Tandoncies',\n",
       "       'Parmanu: The Story of Pokhran', 'Patiala House',\n",
       "       'Paulettante Veedu', 'Paying Guests', 'Amrapali', 'Peepli Live',\n",
       "       'Penalty', 'Petta', 'Phantom', 'Phir Bhi Dil Hai Hindustani',\n",
       "       'Phir Hera Pheri', 'Phir Se', 'An American in Madras', 'PhotoCopy',\n",
       "       'Phullu', 'Pihu', 'Pimpal', 'Pink', 'Pitaah', 'Pizza', 'PK',\n",
       "       'Players', 'Pooja Kiven Aa', 'Poshter Girl', 'Poster Boys',\n",
       "       'Power Paandi', 'Pranaam', 'Prem Ratan Dhan Payo',\n",
       "       'Premachi Goshta', 'Prince', 'Professor', 'Project Marathwada',\n",
       "       'Project Papa', 'Psycho', 'Pukar', 'Anaamika', 'Puriyatha Puthir',\n",
       "       'Pyaar Ka Punchnama', 'Pyaar Ka Punchnama 2',\n",
       "       'Pyaar Ke Side Effects', 'Pyar Ke Do Pal', 'Anarkali of Aarah',\n",
       "       'Qarib Qarib Singlle', 'Qila', 'Qismat', 'Queen', 'R.K.Nagar',\n",
       "       'Raajneeti', 'Raat Akeli Hai', 'Race', 'Race 2', 'Radiopetti',\n",
       "       'Raees', 'Ragini MMS', 'Ragini MMS 2', 'Rahasya', 'Rainbow Jelly',\n",
       "       'Raja Hindustani', 'Raja Natwarlal', 'Andaz Apna Apna',\n",
       "       'Rajma Chawal', 'Rajnigandha', 'Rakkhosh', 'Ram Jaane',\n",
       "       'Andhadhun', 'Ram Teri Ganga Maili', 'Raman Raghav 2.0',\n",
       "       'Ramji Londonwaley', 'Ranbhool', 'Rang De Basanti', 'Rangoon',\n",
       "       'Andhakaaram', 'Ready', 'Red Oleanders Raktokarobi', 'Rehmataan',\n",
       "       'Angamaly Diaries', 'Revelations', 'Ringan', 'Rise of the Zombie',\n",
       "       'Rivaaz', 'Road to Sangam', 'Rock On!!', 'Rocky Handsome',\n",
       "       'Romeo Akbar Walter', 'Ani... Dr. Kashinath Ghanekar',\n",
       "       'Rooting for Roona', 'Rowdy Rathore', 'Rukh', 'Run',\n",
       "       'Running Shaadi', 'Rustom', 'Saadey CM Saab', 'Saaho',\n",
       "       'Saath Saath', 'Saavat', 'Anjaan', 'Sadma',\n",
       "       'Saeed Mirza: The Leftist Sufi', 'Saheb Bibi Golaam',\n",
       "       'Saheb Biwi Aur Gangster Returns', 'Sairat', 'Sakhi', 'Salaakhen',\n",
       "       'Samantaral', 'Samarppanam', 'Ankhon Dekhi', 'Sanai Choughade',\n",
       "       'Sangam', 'Sanju', 'Ankur Arora Murder Case',\n",
       "       'Santa Banta Pvt Ltd', 'Sarivar Sari',\n",
       "       'Sarvam Thaala Mayam (Telugu Version)', 'Sarvopari Palakkaran',\n",
       "       'Sat Shri Akaal England', 'Sat Sri Akal', 'Satrangi Re',\n",
       "       'Satte Pe Satta', 'Satyagraha', 'Savita Damodar Paranjpe',\n",
       "       'Secret Superstar', 'Sei', 'Serious Men', 'SETHUM AAYIRAM PON',\n",
       "       'Settai', 'Seven (Tamil)', 'Anthony Kaun Hai?', 'Shabd',\n",
       "       'Shahanpan Dega Deva', 'Shaitan', 'Shakti: The Power', 'Shanghai',\n",
       "       'Shararat', 'Shaurya: It Takes Courage to Make Right... Right',\n",
       "       'Anwar', 'Shimla Mirchi', 'Shiva', 'Shonar Pahar',\n",
       "       'Shootout at Lokhandwala', 'Shor In the City', 'Shorgul',\n",
       "       'Shortcut Safari', 'Shubh Aarambh', 'Siddhant', 'Sigaram Thodu',\n",
       "       'Sillu Karuppatti', 'Apaharan', 'Singh Saab the Great', 'Singham',\n",
       "       'Socha Na Tha', 'Soldier', 'Sometimes', 'Soni', 'Soorma',\n",
       "       'Special 26', 'Spyder', 'Sthaniya Sambaad',\n",
       "       'Arjun: The Warrior Prince', 'Story of an Egg', 'Stree',\n",
       "       'Sudani from Nigeria', 'Super Bheem Bana Vajraveer',\n",
       "       'Super Deluxe', 'Article 15', 'Super Nani', 'Sur Sapata',\n",
       "       'Sur: The Melody of Life', 'Swades', 'Swami', 'Ascharyachakit!',\n",
       "       'Asees', 'Taal', 'Taare Zameen Par', 'Tahaan', 'Talaash',\n",
       "       'Tamanchey', 'Tamasha', 'Tanu Weds Manu', 'Taramani',\n",
       "       '1000 Rupee Note', 'Asoka', 'TE3N', 'Teen Aur Aadha', 'Teen Patti',\n",
       "       'Tees Maar Khan', 'Tere Naal Love Ho Gaya', 'Teshan', 'Thaandavam',\n",
       "       'Thackeray (Hindi)', 'Thambi', 'Thank You', 'Asura Guru',\n",
       "       'The Blue Umbrella', 'The Body', 'The Damned Rain',\n",
       "       'The Dark Side of Life: Mumbai City', 'Autohead',\n",
       "       'The Great Gambler', 'Awe', 'Axone', 'Ayana',\n",
       "       'The House Next Door',\n",
       "       'The Human Factor: The Untold Story of the Bombay Film Orchestras',\n",
       "       'Azhar', 'B.A. Pass', 'B.A. Pass 2', 'The Land of Cards',\n",
       "       'Baadshaho', 'The Last Bomb of the Second World War', 'Baaghi',\n",
       "       'Baahubali 2: The Conclusion (Hindi Version)',\n",
       "       'The Legend of Bhagat Singh', 'The Legend of Michael Mishra',\n",
       "       'The Lift Boy', 'Baahubali: The Beginning (Hindi Version)',\n",
       "       'The Man Who Feels No Pain', 'Baazaar', 'Baby Dolls',\n",
       "       'Bachelor Girls', 'The Plan', 'The Rat Race',\n",
       "       'The Royal Bengal Tiger', 'The Shaukeens', 'The Violin Player',\n",
       "       'Badha', 'The Wishing Tree', 'Badla', 'The Zoya Factor', 'Theeram',\n",
       "       'Theeya Velai Seyyanum Kumaru', 'Thottappan', 'Thug Life', 'Tiger',\n",
       "       'Tikli and Laxmi Bomb', 'Time Out', 'Time Please',\n",
       "       'Together For Eternity', 'Toilet: Ek Prem Katha', 'Tope: The Bait',\n",
       "       'Torbaaz', 'Tottaa Pataaka Item Maal', 'Traffic Signal', 'Bandie',\n",
       "       'Bangistan', 'Trikal (Past, Present, Future)', 'Trimurti',\n",
       "       \"Trip to Bhangarh: Asia's Most Haunted Place\", 'Truckbhar Swapna',\n",
       "       'Tu Hai Mera Sunday', 'Tukaram', 'Tum Milo Toh Sahi',\n",
       "       'Twisted Trunk, Big Fat Body', 'U Turn', 'Udaan', 'Udta Punjab',\n",
       "       'Ugly', 'Barah Aana', 'Ugly Aur Pagli', 'Ujala',\n",
       "       'Uma Maheswara Ugra Roopasya', 'Umrika', 'Unbroken', 'Ungli',\n",
       "       'Upstarts', 'Uriyadi 2', 'Urvi', 'Uyare', 'Vanjagar Ulagam',\n",
       "       'Varane Avashyamund', 'Veerappan', 'Veerey Ki Wedding', 'Vettai',\n",
       "       'Vir Das: For India', 'Vir Das: Outside In - The Lockdown Special',\n",
       "       'Viswasapoorvam Mansoor', 'Vitti Dandu', 'Vivah', 'Vodka Diaries',\n",
       "       'W/O Ram', 'Waarrior Savitri', 'Waiting', 'Wake Up Sid',\n",
       "       'War Chhod Na Yaar', 'Watchman', 'Wazir', 'Bareilly Ki Barfi',\n",
       "       'Welcome', 'Welcome 2 Karachi', 'Welcome to Sajjanpur',\n",
       "       'Well Done Abba', 'Barfi!', 'What Are the Odds?', 'What the Fish',\n",
       "       'What the Jatt!!', 'Barsaat', \"What's Your Raashee?\",\n",
       "       'Bathinda Express', 'World Famous Lover', 'Wrong Side Raju',\n",
       "       'X: Past Is Present', 'Y.M.I.: Yeh Mera India', 'Yaadein',\n",
       "       'Yaar Gaddar', 'Yaara O Dildaara', 'Yamla Pagla Deewana 2',\n",
       "       'Yanda Kartavya Aahe', 'Yeh Ballet', 'Yeh Hai Bakrapur',\n",
       "       'Bawarchi', 'Bazaar', 'Yours Sincerely, Kanan Gill',\n",
       "       'Bbuddah Hoga Terra Baap', 'Yuva', 'Zed Plus', 'Zenda', 'Zero',\n",
       "       'Zindagi Na Milegi Dobara', 'Zokkomon', 'Zoo', 'Zubaan',\n",
       "       '2 States', 'Beiimaan Love', 'Bewafaa', 'Bhagam Bhag',\n",
       "       'Bhai: Vyakti Ki Valli - Poorvardha',\n",
       "       'Bhai: Vyakti Ki Valli - Uttarardh', 'Bhaji In Problem',\n",
       "       'Bhangra Paa Le', 'Bhasmasur', 'Bhavesh Joshi Superhero',\n",
       "       'Bheeshma', 'Bhool Bhulaiyaa', 'Bhoot', 'Bhouri', '706',\n",
       "       '25 Kille', 'Billu', 'Bilu Rakkhosh', 'Bioscope', 'Bittoo Boss',\n",
       "       'Black', 'Black Friday', 'Blood Money'], dtype=object)"
      ]
     },
     "execution_count": 46,
     "metadata": {},
     "output_type": "execute_result"
    }
   ],
   "source": [
    "Movies_only_in_India.unique()"
   ]
  },
  {
   "cell_type": "code",
   "execution_count": 47,
   "id": "927d2c62",
   "metadata": {},
   "outputs": [],
   "source": [
    "TVShows_only_in_India = Netflix[(Netflix[\"type\"] == \"TV Show\") & (Netflix[\"country\"] == \"India\")][\"title\"]"
   ]
  },
  {
   "cell_type": "code",
   "execution_count": 48,
   "id": "c5d48a0f",
   "metadata": {},
   "outputs": [
    {
     "data": {
      "text/plain": [
       "71"
      ]
     },
     "execution_count": 48,
     "metadata": {},
     "output_type": "execute_result"
    }
   ],
   "source": [
    "TVShows_only_in_India .count()"
   ]
  },
  {
   "cell_type": "code",
   "execution_count": 49,
   "id": "a6907133",
   "metadata": {
    "scrolled": true
   },
   "outputs": [
    {
     "data": {
      "text/plain": [
       "array(['Chhota Bheem', '7 (Seven)',\n",
       "       'ChuChu TV Nursery Rhymes & Kids Songs (Hindi)', 'Classic Legends',\n",
       "       'College Romance', 'Cricket Fever: Mumbai Indians',\n",
       "       'Darr Sabko Lagta Hai', 'Delhi Crime',\n",
       "       'Devlok with Devdutt Pattanaik', 'Dharmakshetra',\n",
       "       'Engineering Girls', 'Fabulous Lives of Bollywood Wives',\n",
       "       'Fear Files... Har Mod Pe Darr', 'Gabru: Hip Hop Revolution',\n",
       "       'Gangs of Hassepur', 'GHOUL', 'Girls Hostel', 'Hasmukh', 'Inmates',\n",
       "       'Jamtara - Sabka Number Ayega', 'Jhansi Ki Rani',\n",
       "       'Khan: No. 1 Crime Hunter', 'Khelti Hai Zindagi Aankh Micholi',\n",
       "       'Khotey Sikkey', 'Agent Raghav', 'Ladies Up', 'Leila',\n",
       "       'Akbar\\xa0Birbal', 'Little Singham', 'Little Things',\n",
       "       'Maharakshak Devi', 'Maharakshak: Aryan', 'Mahi Way',\n",
       "       'Masaba Masaba', 'Midnight Misadventures With Mallika Dua',\n",
       "       'Mighty Little Bheem: Diwali',\n",
       "       'Mighty Little Bheem: Festival of Colors',\n",
       "       'Mighty Little Bheem: Kite Festival', 'Mismatched',\n",
       "       'Paava Kadhaigal', 'Powder', 'Pyaar Tune Kya Kiya',\n",
       "       'Raja Rasoi Aur Anya Kahaniyan', 'Ramayan', 'Razia Sultan',\n",
       "       'Regiment Diaries', 'Rishta.com', 'Sab Jholmaal Hai',\n",
       "       'Anjaan: Rural Myths', 'Anjaan: Special Crimes Unit',\n",
       "       'Selection Day', 'She', 'Stories by Rabindranath Tagore',\n",
       "       'Super Bheem', 'Taj Mahal 1989',\n",
       "       'Th Eena Meena Deeka Chase Comedy Show', 'Thackeray',\n",
       "       'The Calling', 'The Creative Indians',\n",
       "       'The Golden Years with Javed Akhtar', 'The House That Made Me',\n",
       "       'Bad Boy Billionaires: India', 'Badalte Rishton Ki Dastaan',\n",
       "       'Typewriter', 'Bard of Blood', 'Yeh Meri Family', 'Betaal',\n",
       "       '21 Sarfarosh: Saragarhi 1897', 'Bh Se Bhade',\n",
       "       'Bhaag Beanie Bhaag', 'Bhaage Re Mann'], dtype=object)"
      ]
     },
     "execution_count": 49,
     "metadata": {},
     "output_type": "execute_result"
    }
   ],
   "source": [
    "TVShows_only_in_India .unique()"
   ]
  },
  {
   "cell_type": "code",
   "execution_count": 53,
   "id": "7fdc6df5",
   "metadata": {},
   "outputs": [
    {
     "data": {
      "text/html": [
       "<div>\n",
       "<style scoped>\n",
       "    .dataframe tbody tr th:only-of-type {\n",
       "        vertical-align: middle;\n",
       "    }\n",
       "\n",
       "    .dataframe tbody tr th {\n",
       "        vertical-align: top;\n",
       "    }\n",
       "\n",
       "    .dataframe thead th {\n",
       "        text-align: right;\n",
       "    }\n",
       "</style>\n",
       "<table border=\"1\" class=\"dataframe\">\n",
       "  <thead>\n",
       "    <tr style=\"text-align: right;\">\n",
       "      <th></th>\n",
       "      <th>show_id</th>\n",
       "      <th>type</th>\n",
       "      <th>title</th>\n",
       "      <th>director</th>\n",
       "      <th>cast</th>\n",
       "      <th>country</th>\n",
       "      <th>date_added</th>\n",
       "      <th>release_year</th>\n",
       "      <th>rating</th>\n",
       "      <th>duration</th>\n",
       "      <th>genres</th>\n",
       "      <th>description</th>\n",
       "    </tr>\n",
       "  </thead>\n",
       "  <tbody>\n",
       "    <tr>\n",
       "      <th>1</th>\n",
       "      <td>s10</td>\n",
       "      <td>Movie</td>\n",
       "      <td>1920</td>\n",
       "      <td>Vikram Bhatt</td>\n",
       "      <td>Rajneesh Duggal, Adah Sharma, Indraneil Sengup...</td>\n",
       "      <td>India</td>\n",
       "      <td>15-Dec-17</td>\n",
       "      <td>2008</td>\n",
       "      <td>TV-MA</td>\n",
       "      <td>143</td>\n",
       "      <td>Horror Movies, International Movies, Thrillers</td>\n",
       "      <td>An architect and his wife move into a castle t...</td>\n",
       "    </tr>\n",
       "    <tr>\n",
       "      <th>8</th>\n",
       "      <td>s1005</td>\n",
       "      <td>Movie</td>\n",
       "      <td>BluffMaster!</td>\n",
       "      <td>Rohan Sippy</td>\n",
       "      <td>Abhishek Bachchan, Priyanka Chopra, Riteish De...</td>\n",
       "      <td>India</td>\n",
       "      <td>8-Jan-21</td>\n",
       "      <td>2005</td>\n",
       "      <td>TV-14</td>\n",
       "      <td>129</td>\n",
       "      <td>Comedies, International Movies, Romantic Movies</td>\n",
       "      <td>When his girlfriend learns the truth about his...</td>\n",
       "    </tr>\n",
       "    <tr>\n",
       "      <th>13</th>\n",
       "      <td>s101</td>\n",
       "      <td>Movie</td>\n",
       "      <td>3 Idiots</td>\n",
       "      <td>Rajkumar Hirani</td>\n",
       "      <td>Aamir Khan, Kareena Kapoor, Madhavan, Sharman ...</td>\n",
       "      <td>India</td>\n",
       "      <td>1-Aug-19</td>\n",
       "      <td>2009</td>\n",
       "      <td>PG-13</td>\n",
       "      <td>164</td>\n",
       "      <td>Comedies, Dramas, International Movies</td>\n",
       "      <td>While attending one of India's premier college...</td>\n",
       "    </tr>\n",
       "    <tr>\n",
       "      <th>21</th>\n",
       "      <td>s1017</td>\n",
       "      <td>Movie</td>\n",
       "      <td>Bobby</td>\n",
       "      <td>Raj Kapoor</td>\n",
       "      <td>Rishi Kapoor, Dimple Kapadia, Pran, Prem Nath,...</td>\n",
       "      <td>India</td>\n",
       "      <td>31-Dec-19</td>\n",
       "      <td>1973</td>\n",
       "      <td>TV-14</td>\n",
       "      <td>168</td>\n",
       "      <td>Classic Movies, Dramas, International Movies</td>\n",
       "      <td>Raj, the son of strict, wealthy parents, falls...</td>\n",
       "    </tr>\n",
       "    <tr>\n",
       "      <th>22</th>\n",
       "      <td>s1018</td>\n",
       "      <td>Movie</td>\n",
       "      <td>Bobby Jasoos</td>\n",
       "      <td>Samar Shaikh</td>\n",
       "      <td>Vidya Balan, Ali Fazal, Supriya Pathak, Tanvi ...</td>\n",
       "      <td>India</td>\n",
       "      <td>31-Dec-20</td>\n",
       "      <td>2014</td>\n",
       "      <td>TV-14</td>\n",
       "      <td>116</td>\n",
       "      <td>Comedies, Dramas, International Movies</td>\n",
       "      <td>With unlimited determination and zero field ex...</td>\n",
       "    </tr>\n",
       "  </tbody>\n",
       "</table>\n",
       "</div>"
      ],
      "text/plain": [
       "   show_id   type         title         director  \\\n",
       "1      s10  Movie          1920     Vikram Bhatt   \n",
       "8    s1005  Movie  BluffMaster!      Rohan Sippy   \n",
       "13    s101  Movie      3 Idiots  Rajkumar Hirani   \n",
       "21   s1017  Movie         Bobby       Raj Kapoor   \n",
       "22   s1018  Movie  Bobby Jasoos     Samar Shaikh   \n",
       "\n",
       "                                                 cast country date_added  \\\n",
       "1   Rajneesh Duggal, Adah Sharma, Indraneil Sengup...   India  15-Dec-17   \n",
       "8   Abhishek Bachchan, Priyanka Chopra, Riteish De...   India   8-Jan-21   \n",
       "13  Aamir Khan, Kareena Kapoor, Madhavan, Sharman ...   India   1-Aug-19   \n",
       "21  Rishi Kapoor, Dimple Kapadia, Pran, Prem Nath,...   India  31-Dec-19   \n",
       "22  Vidya Balan, Ali Fazal, Supriya Pathak, Tanvi ...   India  31-Dec-20   \n",
       "\n",
       "    release_year rating  duration  \\\n",
       "1           2008  TV-MA       143   \n",
       "8           2005  TV-14       129   \n",
       "13          2009  PG-13       164   \n",
       "21          1973  TV-14       168   \n",
       "22          2014  TV-14       116   \n",
       "\n",
       "                                             genres  \\\n",
       "1    Horror Movies, International Movies, Thrillers   \n",
       "8   Comedies, International Movies, Romantic Movies   \n",
       "13           Comedies, Dramas, International Movies   \n",
       "21     Classic Movies, Dramas, International Movies   \n",
       "22           Comedies, Dramas, International Movies   \n",
       "\n",
       "                                          description  \n",
       "1   An architect and his wife move into a castle t...  \n",
       "8   When his girlfriend learns the truth about his...  \n",
       "13  While attending one of India's premier college...  \n",
       "21  Raj, the son of strict, wealthy parents, falls...  \n",
       "22  With unlimited determination and zero field ex...  "
      ]
     },
     "execution_count": 53,
     "metadata": {},
     "output_type": "execute_result"
    }
   ],
   "source": [
    "India = Netflix[Netflix.country == 'India']\n",
    "India.head()"
   ]
  },
  {
   "cell_type": "code",
   "execution_count": 101,
   "id": "3a1d198e",
   "metadata": {},
   "outputs": [
    {
     "data": {
      "image/png": "[encoded data removed]",
      "text/plain": [
       "<Figure size 640x480 with 1 Axes>"
      ]
     },
     "metadata": {},
     "output_type": "display_data"
    }
   ],
   "source": [
    "sns.countplot(x='type', data=India, palette=sns.color_palette(\"BuGn\", n_colors=2),\n",
    "    edgecolor='black', linewidth=1.5)\n",
    "\n",
    "ax = plt.gca()\n",
    "y_max = India['type'].value_counts().max() \n",
    "ax.set_ylim([0, 1000])\n",
    "\n",
    "for p in ax.patches:\n",
    "    ax.text(p.get_x() + p.get_width()/2., p.get_height(), '%d' % int(p.get_height()), \n",
    "            fontsize=12, color='black', ha='center', va='bottom')\n",
    "\n",
    "plt.title('Comparison of Total TV Shows & Movies', size='15')\n",
    "plt.xlabel('Type',size='15',color=\"black\")\n",
    "plt.ylabel('Count',size='15',color=\"black\")\n",
    "plt.show()\n"
   ]
  },
  {
   "cell_type": "code",
   "execution_count": 99,
   "id": "354a802b",
   "metadata": {},
   "outputs": [
    {
     "ename": "AttributeError",
     "evalue": "Rectangle.set() got an unexpected keyword argument 'showmeans'",
     "output_type": "error",
     "traceback": [
      "\u001b[1;31m---------------------------------------------------------------------------\u001b[0m",
      "\u001b[1;31mAttributeError\u001b[0m                            Traceback (most recent call last)",
      "Cell \u001b[1;32mIn[99], line 4\u001b[0m\n\u001b[0;32m      1\u001b[0m data \u001b[38;5;241m=\u001b[39m India  \u001b[38;5;66;03m# Assuming this is your DataFrame\u001b[39;00m\n\u001b[0;32m      3\u001b[0m \u001b[38;5;66;03m# Create the countplot with dark bar edges and data labels\u001b[39;00m\n\u001b[1;32m----> 4\u001b[0m sns\u001b[38;5;241m.\u001b[39mcountplot(\n\u001b[0;32m      5\u001b[0m     x\u001b[38;5;241m=\u001b[39m\u001b[38;5;124m'\u001b[39m\u001b[38;5;124mtype\u001b[39m\u001b[38;5;124m'\u001b[39m, data\u001b[38;5;241m=\u001b[39mdata, palette\u001b[38;5;241m=\u001b[39msns\u001b[38;5;241m.\u001b[39mcolor_palette(\u001b[38;5;124m\"\u001b[39m\u001b[38;5;124mBuGn\u001b[39m\u001b[38;5;124m\"\u001b[39m, n_colors\u001b[38;5;241m=\u001b[39m\u001b[38;5;241m2\u001b[39m),\n\u001b[0;32m      6\u001b[0m     edgecolor\u001b[38;5;241m=\u001b[39m\u001b[38;5;124m'\u001b[39m\u001b[38;5;124mblack\u001b[39m\u001b[38;5;124m'\u001b[39m, linewidth\u001b[38;5;241m=\u001b[39m\u001b[38;5;241m1\u001b[39m,\n\u001b[0;32m      7\u001b[0m     order\u001b[38;5;241m=\u001b[39mdata[\u001b[38;5;124m'\u001b[39m\u001b[38;5;124mtype\u001b[39m\u001b[38;5;124m'\u001b[39m]\u001b[38;5;241m.\u001b[39mvalue_counts()\u001b[38;5;241m.\u001b[39mindex,  \u001b[38;5;66;03m# Ensure correct order\u001b[39;00m\n\u001b[0;32m      8\u001b[0m     showmeans\u001b[38;5;241m=\u001b[39m\u001b[38;5;28;01mTrue\u001b[39;00m,  \u001b[38;5;66;03m# Show mean values as data labels\u001b[39;00m\n\u001b[0;32m      9\u001b[0m )\n\u001b[0;32m     11\u001b[0m \u001b[38;5;66;03m# Customize plot elements (optional)\u001b[39;00m\n\u001b[0;32m     12\u001b[0m plt\u001b[38;5;241m.\u001b[39mtitle(\u001b[38;5;124m'\u001b[39m\u001b[38;5;124mComparison of Total TV Shows & Movies\u001b[39m\u001b[38;5;124m'\u001b[39m, size\u001b[38;5;241m=\u001b[39m\u001b[38;5;241m15\u001b[39m)\n",
      "File \u001b[1;32m~\\anaconda3\\Lib\\site-packages\\seaborn\\categorical.py:2955\u001b[0m, in \u001b[0;36mcountplot\u001b[1;34m(data, x, y, hue, order, hue_order, orient, color, palette, saturation, width, dodge, ax, **kwargs)\u001b[0m\n\u001b[0;32m   2952\u001b[0m \u001b[38;5;28;01mif\u001b[39;00m ax \u001b[38;5;129;01mis\u001b[39;00m \u001b[38;5;28;01mNone\u001b[39;00m:\n\u001b[0;32m   2953\u001b[0m     ax \u001b[38;5;241m=\u001b[39m plt\u001b[38;5;241m.\u001b[39mgca()\n\u001b[1;32m-> 2955\u001b[0m plotter\u001b[38;5;241m.\u001b[39mplot(ax, kwargs)\n\u001b[0;32m   2956\u001b[0m \u001b[38;5;28;01mreturn\u001b[39;00m ax\n",
      "File \u001b[1;32m~\\anaconda3\\Lib\\site-packages\\seaborn\\categorical.py:1586\u001b[0m, in \u001b[0;36m_BarPlotter.plot\u001b[1;34m(self, ax, bar_kws)\u001b[0m\n\u001b[0;32m   1584\u001b[0m \u001b[38;5;28;01mdef\u001b[39;00m \u001b[38;5;21mplot\u001b[39m(\u001b[38;5;28mself\u001b[39m, ax, bar_kws):\n\u001b[0;32m   1585\u001b[0m \u001b[38;5;250m    \u001b[39m\u001b[38;5;124;03m\"\"\"Make the plot.\"\"\"\u001b[39;00m\n\u001b[1;32m-> 1586\u001b[0m     \u001b[38;5;28mself\u001b[39m\u001b[38;5;241m.\u001b[39mdraw_bars(ax, bar_kws)\n\u001b[0;32m   1587\u001b[0m     \u001b[38;5;28mself\u001b[39m\u001b[38;5;241m.\u001b[39mannotate_axes(ax)\n\u001b[0;32m   1588\u001b[0m     \u001b[38;5;28;01mif\u001b[39;00m \u001b[38;5;28mself\u001b[39m\u001b[38;5;241m.\u001b[39morient \u001b[38;5;241m==\u001b[39m \u001b[38;5;124m\"\u001b[39m\u001b[38;5;124mh\u001b[39m\u001b[38;5;124m\"\u001b[39m:\n",
      "File \u001b[1;32m~\\anaconda3\\Lib\\site-packages\\seaborn\\categorical.py:1551\u001b[0m, in \u001b[0;36m_BarPlotter.draw_bars\u001b[1;34m(self, ax, kws)\u001b[0m\n\u001b[0;32m   1546\u001b[0m barpos \u001b[38;5;241m=\u001b[39m np\u001b[38;5;241m.\u001b[39marange(\u001b[38;5;28mlen\u001b[39m(\u001b[38;5;28mself\u001b[39m\u001b[38;5;241m.\u001b[39mstatistic))\n\u001b[0;32m   1548\u001b[0m \u001b[38;5;28;01mif\u001b[39;00m \u001b[38;5;28mself\u001b[39m\u001b[38;5;241m.\u001b[39mplot_hues \u001b[38;5;129;01mis\u001b[39;00m \u001b[38;5;28;01mNone\u001b[39;00m:\n\u001b[0;32m   1549\u001b[0m \n\u001b[0;32m   1550\u001b[0m     \u001b[38;5;66;03m# Draw the bars\u001b[39;00m\n\u001b[1;32m-> 1551\u001b[0m     barfunc(barpos, \u001b[38;5;28mself\u001b[39m\u001b[38;5;241m.\u001b[39mstatistic, \u001b[38;5;28mself\u001b[39m\u001b[38;5;241m.\u001b[39mwidth,\n\u001b[0;32m   1552\u001b[0m             color\u001b[38;5;241m=\u001b[39m\u001b[38;5;28mself\u001b[39m\u001b[38;5;241m.\u001b[39mcolors, align\u001b[38;5;241m=\u001b[39m\u001b[38;5;124m\"\u001b[39m\u001b[38;5;124mcenter\u001b[39m\u001b[38;5;124m\"\u001b[39m, \u001b[38;5;241m*\u001b[39m\u001b[38;5;241m*\u001b[39mkws)\n\u001b[0;32m   1554\u001b[0m     \u001b[38;5;66;03m# Draw the confidence intervals\u001b[39;00m\n\u001b[0;32m   1555\u001b[0m     errcolors \u001b[38;5;241m=\u001b[39m [\u001b[38;5;28mself\u001b[39m\u001b[38;5;241m.\u001b[39merrcolor] \u001b[38;5;241m*\u001b[39m \u001b[38;5;28mlen\u001b[39m(barpos)\n",
      "File \u001b[1;32m~\\anaconda3\\Lib\\site-packages\\matplotlib\\__init__.py:1446\u001b[0m, in \u001b[0;36m_preprocess_data.<locals>.inner\u001b[1;34m(ax, data, *args, **kwargs)\u001b[0m\n\u001b[0;32m   1443\u001b[0m \u001b[38;5;129m@functools\u001b[39m\u001b[38;5;241m.\u001b[39mwraps(func)\n\u001b[0;32m   1444\u001b[0m \u001b[38;5;28;01mdef\u001b[39;00m \u001b[38;5;21minner\u001b[39m(ax, \u001b[38;5;241m*\u001b[39margs, data\u001b[38;5;241m=\u001b[39m\u001b[38;5;28;01mNone\u001b[39;00m, \u001b[38;5;241m*\u001b[39m\u001b[38;5;241m*\u001b[39mkwargs):\n\u001b[0;32m   1445\u001b[0m     \u001b[38;5;28;01mif\u001b[39;00m data \u001b[38;5;129;01mis\u001b[39;00m \u001b[38;5;28;01mNone\u001b[39;00m:\n\u001b[1;32m-> 1446\u001b[0m         \u001b[38;5;28;01mreturn\u001b[39;00m func(ax, \u001b[38;5;241m*\u001b[39m\u001b[38;5;28mmap\u001b[39m(sanitize_sequence, args), \u001b[38;5;241m*\u001b[39m\u001b[38;5;241m*\u001b[39mkwargs)\n\u001b[0;32m   1448\u001b[0m     bound \u001b[38;5;241m=\u001b[39m new_sig\u001b[38;5;241m.\u001b[39mbind(ax, \u001b[38;5;241m*\u001b[39margs, \u001b[38;5;241m*\u001b[39m\u001b[38;5;241m*\u001b[39mkwargs)\n\u001b[0;32m   1449\u001b[0m     auto_label \u001b[38;5;241m=\u001b[39m (bound\u001b[38;5;241m.\u001b[39marguments\u001b[38;5;241m.\u001b[39mget(label_namer)\n\u001b[0;32m   1450\u001b[0m                   \u001b[38;5;129;01mor\u001b[39;00m bound\u001b[38;5;241m.\u001b[39mkwargs\u001b[38;5;241m.\u001b[39mget(label_namer))\n",
      "File \u001b[1;32m~\\anaconda3\\Lib\\site-packages\\matplotlib\\axes\\_axes.py:2480\u001b[0m, in \u001b[0;36mAxes.bar\u001b[1;34m(self, x, height, width, bottom, align, **kwargs)\u001b[0m\n\u001b[0;32m   2471\u001b[0m \u001b[38;5;28;01mfor\u001b[39;00m l, b, w, h, c, e, lw, htch, lbl \u001b[38;5;129;01min\u001b[39;00m args:\n\u001b[0;32m   2472\u001b[0m     r \u001b[38;5;241m=\u001b[39m mpatches\u001b[38;5;241m.\u001b[39mRectangle(\n\u001b[0;32m   2473\u001b[0m         xy\u001b[38;5;241m=\u001b[39m(l, b), width\u001b[38;5;241m=\u001b[39mw, height\u001b[38;5;241m=\u001b[39mh,\n\u001b[0;32m   2474\u001b[0m         facecolor\u001b[38;5;241m=\u001b[39mc,\n\u001b[1;32m   (...)\u001b[0m\n\u001b[0;32m   2478\u001b[0m         hatch\u001b[38;5;241m=\u001b[39mhtch,\n\u001b[0;32m   2479\u001b[0m         )\n\u001b[1;32m-> 2480\u001b[0m     r\u001b[38;5;241m.\u001b[39m_internal_update(kwargs)\n\u001b[0;32m   2481\u001b[0m     r\u001b[38;5;241m.\u001b[39mget_path()\u001b[38;5;241m.\u001b[39m_interpolation_steps \u001b[38;5;241m=\u001b[39m \u001b[38;5;241m100\u001b[39m\n\u001b[0;32m   2482\u001b[0m     \u001b[38;5;28;01mif\u001b[39;00m orientation \u001b[38;5;241m==\u001b[39m \u001b[38;5;124m'\u001b[39m\u001b[38;5;124mvertical\u001b[39m\u001b[38;5;124m'\u001b[39m:\n",
      "File \u001b[1;32m~\\anaconda3\\Lib\\site-packages\\matplotlib\\artist.py:1223\u001b[0m, in \u001b[0;36mArtist._internal_update\u001b[1;34m(self, kwargs)\u001b[0m\n\u001b[0;32m   1216\u001b[0m \u001b[38;5;28;01mdef\u001b[39;00m \u001b[38;5;21m_internal_update\u001b[39m(\u001b[38;5;28mself\u001b[39m, kwargs):\n\u001b[0;32m   1217\u001b[0m \u001b[38;5;250m    \u001b[39m\u001b[38;5;124;03m\"\"\"\u001b[39;00m\n\u001b[0;32m   1218\u001b[0m \u001b[38;5;124;03m    Update artist properties without prenormalizing them, but generating\u001b[39;00m\n\u001b[0;32m   1219\u001b[0m \u001b[38;5;124;03m    errors as if calling `set`.\u001b[39;00m\n\u001b[0;32m   1220\u001b[0m \n\u001b[0;32m   1221\u001b[0m \u001b[38;5;124;03m    The lack of prenormalization is to maintain backcompatibility.\u001b[39;00m\n\u001b[0;32m   1222\u001b[0m \u001b[38;5;124;03m    \"\"\"\u001b[39;00m\n\u001b[1;32m-> 1223\u001b[0m     \u001b[38;5;28;01mreturn\u001b[39;00m \u001b[38;5;28mself\u001b[39m\u001b[38;5;241m.\u001b[39m_update_props(\n\u001b[0;32m   1224\u001b[0m         kwargs, \u001b[38;5;124m\"\u001b[39m\u001b[38;5;132;01m{cls.__name__}\u001b[39;00m\u001b[38;5;124m.set() got an unexpected keyword argument \u001b[39m\u001b[38;5;124m\"\u001b[39m\n\u001b[0;32m   1225\u001b[0m         \u001b[38;5;124m\"\u001b[39m\u001b[38;5;132;01m{prop_name!r}\u001b[39;00m\u001b[38;5;124m\"\u001b[39m)\n",
      "File \u001b[1;32m~\\anaconda3\\Lib\\site-packages\\matplotlib\\artist.py:1197\u001b[0m, in \u001b[0;36mArtist._update_props\u001b[1;34m(self, props, errfmt)\u001b[0m\n\u001b[0;32m   1195\u001b[0m             func \u001b[38;5;241m=\u001b[39m \u001b[38;5;28mgetattr\u001b[39m(\u001b[38;5;28mself\u001b[39m, \u001b[38;5;124mf\u001b[39m\u001b[38;5;124m\"\u001b[39m\u001b[38;5;124mset_\u001b[39m\u001b[38;5;132;01m{\u001b[39;00mk\u001b[38;5;132;01m}\u001b[39;00m\u001b[38;5;124m\"\u001b[39m, \u001b[38;5;28;01mNone\u001b[39;00m)\n\u001b[0;32m   1196\u001b[0m             \u001b[38;5;28;01mif\u001b[39;00m \u001b[38;5;129;01mnot\u001b[39;00m \u001b[38;5;28mcallable\u001b[39m(func):\n\u001b[1;32m-> 1197\u001b[0m                 \u001b[38;5;28;01mraise\u001b[39;00m \u001b[38;5;167;01mAttributeError\u001b[39;00m(\n\u001b[0;32m   1198\u001b[0m                     errfmt\u001b[38;5;241m.\u001b[39mformat(\u001b[38;5;28mcls\u001b[39m\u001b[38;5;241m=\u001b[39m\u001b[38;5;28mtype\u001b[39m(\u001b[38;5;28mself\u001b[39m), prop_name\u001b[38;5;241m=\u001b[39mk))\n\u001b[0;32m   1199\u001b[0m             ret\u001b[38;5;241m.\u001b[39mappend(func(v))\n\u001b[0;32m   1200\u001b[0m \u001b[38;5;28;01mif\u001b[39;00m ret:\n",
      "\u001b[1;31mAttributeError\u001b[0m: Rectangle.set() got an unexpected keyword argument 'showmeans'"
     ]
    },
    {
     "data": {
      "image/png": "[encoded data removed]",
      "text/plain": [
       "<Figure size 640x480 with 1 Axes>"
      ]
     },
     "metadata": {},
     "output_type": "display_data"
    }
   ],
   "source": [
    "data = India  # Assuming this is your DataFrame\n",
    "\n",
    "# Create the countplot with dark bar edges and data labels\n",
    "sns.countplot(\n",
    "    x='type', data=data, palette=sns.color_palette(\"BuGn\", n_colors=2),\n",
    "    edgecolor='black', linewidth=1,\n",
    "    order=data['type'].value_counts().index,  # Ensure correct order\n",
    "    showmeans=True,  # Show mean values as data labels\n",
    ")\n",
    "\n",
    "# Customize plot elements (optional)\n",
    "plt.title('Comparison of Total TV Shows & Movies', size=15)\n",
    "plt.xlabel('Type', size=12)\n",
    "plt.ylabel('Count', size=12)\n",
    "plt.xticks(rotation=45)  # Rotate x-axis labels for readability\n",
    "plt.tight_layout()  # Adjust spacing and avoid text clipping\n",
    "\n",
    "plt.show()\n",
    "\n"
   ]
  },
  {
   "cell_type": "code",
   "execution_count": 80,
   "id": "53e68e9f",
   "metadata": {},
   "outputs": [
    {
     "data": {
      "image/png": "[encoded data removed]",
      "text/plain": [
       "<Figure size 2400x1500 with 1 Axes>"
      ]
     },
     "metadata": {},
     "output_type": "display_data"
    }
   ],
   "source": [
    "top_genres = India.groupby(['genres'])['show_id'].count().reset_index(name='count').sort_values(by='count',ascending=False)\n",
    "fig_dims = (24,15)\n",
    "fig, ax = plt.subplots(figsize=fig_dims)  \n",
    "sns.pointplot(x='genres',y='count',data=top_genres.head(5),color='teal',ax=ax)\n",
    "plt.title('Top categories',size='20',color=\"black\")\n",
    "plt.xlabel('Year of Release',size='20',color=\"black\")\n",
    "plt.ylabel('Count',size='20',color=\"black\")\n",
    "plt.show()"
   ]
  },
  {
   "cell_type": "code",
   "execution_count": 109,
   "id": "854211cd",
   "metadata": {},
   "outputs": [
    {
     "data": {
      "image/png": "[encoded data removed]",
      "text/plain": [
       "<Figure size 706.375x600 with 1 Axes>"
      ]
     },
     "metadata": {},
     "output_type": "display_data"
    }
   ],
   "source": [
    "India_recent10 =  India[India.release_year >= 2002]\n",
    "\n",
    "g = sns.catplot(\n",
    "    data=India_recent10, kind=\"count\",\n",
    "    x=\"release_year\", hue=\"type\",\n",
    "    ci=\"sd\", palette=sns.color_palette(\"brg\"),alpha=.6, height=6,edgecolor='black', linewidth=2)\n",
    "ax = plt.gca()\n",
    "\n",
    "y_max = India_recent10['type'].value_counts().max() \n",
    "ax.set_ylim([0, 120])\n",
    "\n",
    "for p in ax.patches:\n",
    "    ax.text(p.get_x() + p.get_width()/2., p.get_height(), '%d' % int(p.get_height()), \n",
    "            fontsize=12, color='black', ha='center', va='bottom')\n",
    "plt.title('Last 10 years trends in Netflix by India',size='15',color='black')\n",
    "plt.xlabel('Release Year',size='15',color=\"black\")\n",
    "plt.ylabel('Count',size='15',color=\"black\")\n",
    "plt.show()"
   ]
  },
  {
   "cell_type": "code",
   "execution_count": null,
   "id": "cc77d7ee",
   "metadata": {},
   "outputs": [],
   "source": []
  }
 ],
 "metadata": {
  "kernelspec": {
   "display_name": "Python 3 (ipykernel)",
   "language": "python",
   "name": "python3"
  },
  "language_info": {
   "codemirror_mode": {
    "name": "ipython",
    "version": 3
   },
   "file_extension": ".py",
   "mimetype": "text/x-python",
   "name": "python",
   "nbconvert_exporter": "python",
   "pygments_lexer": "ipython3",
   "version": "3.11.5"
  }
 },
 "nbformat": 4,
 "nbformat_minor": 5
}
